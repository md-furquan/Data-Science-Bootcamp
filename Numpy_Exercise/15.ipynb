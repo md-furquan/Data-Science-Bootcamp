{
 "cells": [
  {
   "cell_type": "markdown",
   "id": "7ee4fd68",
   "metadata": {},
   "source": [
    "# 15. Create a 2d array with 1 on the border and 0 inside"
   ]
  },
  {
   "cell_type": "code",
   "execution_count": 13,
   "id": "12e4206d",
   "metadata": {},
   "outputs": [
    {
     "name": "stdout",
     "output_type": "stream",
     "text": [
      "[[1 1 1 1 1 1]\n",
      " [1 0 0 0 0 1]\n",
      " [1 0 0 0 0 1]\n",
      " [1 0 0 0 0 1]\n",
      " [1 0 0 0 0 1]\n",
      " [1 1 1 1 1 1]]\n"
     ]
    }
   ],
   "source": [
    "import numpy as np\n",
    "array_2d = [[1, 1, 1, 1, 1, 1],[1, 0, 0,0, 0, 1], [1, 0, 0,0, 0, 1],[1, 0, 0,0, 0, 1],[1, 0, 0,0, 0, 1], [1, 1, 1,1, 1,1]]\n",
    "array_need = np.array(array_2d)\n",
    "print(array_need)"
   ]
  }
 ],
 "metadata": {
  "kernelspec": {
   "display_name": "Python 3 (ipykernel)",
   "language": "python",
   "name": "python3"
  },
  "language_info": {
   "codemirror_mode": {
    "name": "ipython",
    "version": 3
   },
   "file_extension": ".py",
   "mimetype": "text/x-python",
   "name": "python",
   "nbconvert_exporter": "python",
   "pygments_lexer": "ipython3",
   "version": "3.9.7"
  }
 },
 "nbformat": 4,
 "nbformat_minor": 5
}
