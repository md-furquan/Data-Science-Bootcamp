{
 "cells": [
  {
   "cell_type": "markdown",
   "id": "b54b3300",
   "metadata": {},
   "source": [
    "# 4. How to find the memory size of any array"
   ]
  },
  {
   "cell_type": "code",
   "execution_count": 13,
   "id": "01288141",
   "metadata": {},
   "outputs": [
    {
     "name": "stdout",
     "output_type": "stream",
     "text": [
      "10\n"
     ]
    }
   ],
   "source": [
    "import numpy as np\n",
    "list1 = [1,2,3,4,5,6,7,8,9,10]\n",
    "array = np.array(list1)\n",
    "print(np.size(array))\n",
    "#type(array)"
   ]
  },
  {
   "cell_type": "code",
   "execution_count": 17,
   "id": "5b50cf14",
   "metadata": {},
   "outputs": [
    {
     "data": {
      "text/plain": [
       "10"
      ]
     },
     "execution_count": 17,
     "metadata": {},
     "output_type": "execute_result"
    }
   ],
   "source": [
    "array = np.zeros(10,int)\n",
    "np.size(array)"
   ]
  },
  {
   "cell_type": "code",
   "execution_count": 18,
   "id": "1c48d08e",
   "metadata": {},
   "outputs": [
    {
     "data": {
      "text/plain": [
       "10"
      ]
     },
     "execution_count": 18,
     "metadata": {},
     "output_type": "execute_result"
    }
   ],
   "source": [
    "array= np.ones(10,int)\n",
    "np.size(array)"
   ]
  },
  {
   "cell_type": "code",
   "execution_count": 21,
   "id": "1b7509e6",
   "metadata": {},
   "outputs": [
    {
     "data": {
      "text/plain": [
       "20"
      ]
     },
     "execution_count": 21,
     "metadata": {},
     "output_type": "execute_result"
    }
   ],
   "source": [
    "array = np.arange(1,21,1)\n",
    "np.size(array)"
   ]
  },
  {
   "cell_type": "code",
   "execution_count": 24,
   "id": "9546ee73",
   "metadata": {},
   "outputs": [
    {
     "data": {
      "text/plain": [
       "10"
      ]
     },
     "execution_count": 24,
     "metadata": {},
     "output_type": "execute_result"
    }
   ],
   "source": [
    "array = np.linspace(1,20,10)\n",
    "np.size(array)"
   ]
  }
 ],
 "metadata": {
  "kernelspec": {
   "display_name": "Python 3 (ipykernel)",
   "language": "python",
   "name": "python3"
  },
  "language_info": {
   "codemirror_mode": {
    "name": "ipython",
    "version": 3
   },
   "file_extension": ".py",
   "mimetype": "text/x-python",
   "name": "python",
   "nbconvert_exporter": "python",
   "pygments_lexer": "ipython3",
   "version": "3.9.7"
  }
 },
 "nbformat": 4,
 "nbformat_minor": 5
}
