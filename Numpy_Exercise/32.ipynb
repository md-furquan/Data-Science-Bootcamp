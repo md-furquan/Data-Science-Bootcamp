{
 "cells": [
  {
   "cell_type": "markdown",
   "id": "b01eddec",
   "metadata": {},
   "source": [
    "# 32. Is the following expressions true?"
   ]
  },
  {
   "cell_type": "code",
   "execution_count": 1,
   "id": "9117ee49",
   "metadata": {},
   "outputs": [
    {
     "name": "stderr",
     "output_type": "stream",
     "text": [
      "C:\\Users\\FURQUA~1\\AppData\\Local\\Temp/ipykernel_21096/3084084354.py:2: RuntimeWarning: invalid value encountered in sqrt\n",
      "  np.sqrt(-1) == np.emath.sqrt(-1)\n"
     ]
    },
    {
     "data": {
      "text/plain": [
       "False"
      ]
     },
     "execution_count": 1,
     "metadata": {},
     "output_type": "execute_result"
    }
   ],
   "source": [
    "import numpy as np\n",
    "np.sqrt(-1) == np.emath.sqrt(-1)"
   ]
  },
  {
   "cell_type": "code",
   "execution_count": 4,
   "id": "4e7e6e37",
   "metadata": {},
   "outputs": [
    {
     "name": "stdout",
     "output_type": "stream",
     "text": [
      "nan\n",
      "1j\n"
     ]
    },
    {
     "name": "stderr",
     "output_type": "stream",
     "text": [
      "C:\\Users\\FURQUA~1\\AppData\\Local\\Temp/ipykernel_21096/260248176.py:2: RuntimeWarning: invalid value encountered in sqrt\n",
      "  r1 = np.sqrt(-1)\n"
     ]
    }
   ],
   "source": [
    "#np.sqrt--> Return the non-negative square-root of an array, element-wise\n",
    "r1 = np.sqrt(-1)\n",
    "print(r1)\n",
    "#emath.sqrt --> A version which returns complex numbers when given negative reals.\n",
    "r2 = np.emath.sqrt(-1)\n",
    "print(r2)"
   ]
  }
 ],
 "metadata": {
  "kernelspec": {
   "display_name": "Python 3 (ipykernel)",
   "language": "python",
   "name": "python3"
  },
  "language_info": {
   "codemirror_mode": {
    "name": "ipython",
    "version": 3
   },
   "file_extension": ".py",
   "mimetype": "text/x-python",
   "name": "python",
   "nbconvert_exporter": "python",
   "pygments_lexer": "ipython3",
   "version": "3.9.7"
  }
 },
 "nbformat": 4,
 "nbformat_minor": 5
}
