{
 "cells": [
  {
   "cell_type": "markdown",
   "id": "f9509d17",
   "metadata": {},
   "source": [
    "# 14. Create a random vector of size 30 and find the mean value"
   ]
  },
  {
   "cell_type": "code",
   "execution_count": 3,
   "id": "60e32756",
   "metadata": {},
   "outputs": [
    {
     "name": "stdout",
     "output_type": "stream",
     "text": [
      "[0.12160602 0.38212183 0.05246717 0.41734455 0.1844845  0.16418086\n",
      " 0.73695799 0.21492425 0.25485176 0.40082173 0.46781783 0.67448028\n",
      " 0.85717466 0.97955018 0.33979125 0.70309816 0.19296394 0.61321519\n",
      " 0.32722643 0.89101369 0.51141645 0.38650398 0.00396604 0.75800908\n",
      " 0.32490887 0.34683703 0.89869679 0.04200545 0.71640966 0.14944023]\n",
      "Mean Value = 0.43714286206194\n"
     ]
    }
   ],
   "source": [
    "import numpy as np\n",
    "random_vector = np.random.random(30)\n",
    "print(random_vector)\n",
    "mean_value = random_vector.mean()\n",
    "print(f\"Mean Value = {mean_value}\")"
   ]
  }
 ],
 "metadata": {
  "kernelspec": {
   "display_name": "Python 3 (ipykernel)",
   "language": "python",
   "name": "python3"
  },
  "language_info": {
   "codemirror_mode": {
    "name": "ipython",
    "version": 3
   },
   "file_extension": ".py",
   "mimetype": "text/x-python",
   "name": "python",
   "nbconvert_exporter": "python",
   "pygments_lexer": "ipython3",
   "version": "3.9.7"
  }
 },
 "nbformat": 4,
 "nbformat_minor": 5
}
