{
 "cells": [
  {
   "cell_type": "markdown",
   "id": "97bc19e3",
   "metadata": {},
   "source": [
    "# 30. How to find common values between two arrays?"
   ]
  },
  {
   "cell_type": "code",
   "execution_count": 2,
   "id": "a6773191",
   "metadata": {},
   "outputs": [
    {
     "name": "stdout",
     "output_type": "stream",
     "text": [
      "[4 9 6 9 5 7 3 2 4 8]\n",
      "[4 9 1 6 1 8 5 5 9 4]\n",
      "[4 5 6 8 9]\n"
     ]
    }
   ],
   "source": [
    "import numpy as np\n",
    "array1 = np.random.randint(0,10,10)\n",
    "print(array1)\n",
    "array2 = np.random.randint(0,10,10)\n",
    "print(array2)\n",
    "print(np.intersect1d(array1,array2))"
   ]
  }
 ],
 "metadata": {
  "kernelspec": {
   "display_name": "Python 3 (ipykernel)",
   "language": "python",
   "name": "python3"
  },
  "language_info": {
   "codemirror_mode": {
    "name": "ipython",
    "version": 3
   },
   "file_extension": ".py",
   "mimetype": "text/x-python",
   "name": "python",
   "nbconvert_exporter": "python",
   "pygments_lexer": "ipython3",
   "version": "3.9.7"
  }
 },
 "nbformat": 4,
 "nbformat_minor": 5
}
