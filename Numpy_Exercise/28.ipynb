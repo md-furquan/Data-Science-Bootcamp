{
 "cells": [
  {
   "cell_type": "markdown",
   "id": "b5141b7a",
   "metadata": {},
   "source": [
    "# What are the result of the following expressions? "
   ]
  },
  {
   "cell_type": "code",
   "execution_count": 3,
   "id": "52354adf",
   "metadata": {},
   "outputs": [
    {
     "name": "stdout",
     "output_type": "stream",
     "text": [
      "nan\n"
     ]
    },
    {
     "name": "stderr",
     "output_type": "stream",
     "text": [
      "C:\\Users\\FURQUA~1\\AppData\\Local\\Temp/ipykernel_21516/2128802749.py:2: RuntimeWarning: invalid value encountered in true_divide\n",
      "  r = np.array(0) / np.array(0)\n"
     ]
    }
   ],
   "source": [
    "import numpy as np\n",
    "r = np.array(0) / np.array(0)\n",
    "print(r)"
   ]
  },
  {
   "cell_type": "code",
   "execution_count": 5,
   "id": "0e79cea8",
   "metadata": {},
   "outputs": [
    {
     "name": "stdout",
     "output_type": "stream",
     "text": [
      "0\n"
     ]
    },
    {
     "name": "stderr",
     "output_type": "stream",
     "text": [
      "C:\\Users\\FURQUA~1\\AppData\\Local\\Temp/ipykernel_21516/2708419069.py:1: RuntimeWarning: divide by zero encountered in floor_divide\n",
      "  r = np.array(0) // np.array(0)\n"
     ]
    }
   ],
   "source": [
    "r = np.array(0) // np.array(0)\n",
    "print(r)"
   ]
  },
  {
   "cell_type": "code",
   "execution_count": 6,
   "id": "3ccae2fe",
   "metadata": {},
   "outputs": [
    {
     "name": "stdout",
     "output_type": "stream",
     "text": [
      "[-2.14748365e+09]\n"
     ]
    }
   ],
   "source": [
    "r = np.array([np.nan]).astype(int).astype(float)\n",
    "print(r)"
   ]
  }
 ],
 "metadata": {
  "kernelspec": {
   "display_name": "Python 3 (ipykernel)",
   "language": "python",
   "name": "python3"
  },
  "language_info": {
   "codemirror_mode": {
    "name": "ipython",
    "version": 3
   },
   "file_extension": ".py",
   "mimetype": "text/x-python",
   "name": "python",
   "nbconvert_exporter": "python",
   "pygments_lexer": "ipython3",
   "version": "3.9.7"
  }
 },
 "nbformat": 4,
 "nbformat_minor": 5
}
