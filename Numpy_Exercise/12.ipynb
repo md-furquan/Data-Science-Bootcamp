{
 "cells": [
  {
   "cell_type": "markdown",
   "id": "2faecafe",
   "metadata": {},
   "source": [
    "# 12. Create a 3x3x3 array with random values"
   ]
  },
  {
   "cell_type": "code",
   "execution_count": 2,
   "id": "3d14df26",
   "metadata": {},
   "outputs": [
    {
     "name": "stdout",
     "output_type": "stream",
     "text": [
      "[[[0.97669977 0.38019574 0.92324623]\n",
      "  [0.26169242 0.31909706 0.11809123]\n",
      "  [0.24176629 0.31853393 0.96407925]]\n",
      "\n",
      " [[0.2636498  0.44100612 0.60987081]\n",
      "  [0.8636213  0.86375767 0.67488131]\n",
      "  [0.65987435 0.7357577  0.22275366]]\n",
      "\n",
      " [[0.17206618 0.87041497 0.06013866]\n",
      "  [0.68368891 0.67123802 0.61101798]\n",
      "  [0.06013731 0.97776927 0.43895163]]]\n"
     ]
    }
   ],
   "source": [
    "from numpy.random import default_rng\n",
    "rng = default_rng(1234)\n",
    "random_array = rng.random((3,3,3))\n",
    "print(random_array)"
   ]
  },
  {
   "cell_type": "code",
   "execution_count": 6,
   "id": "a8df4fe1",
   "metadata": {},
   "outputs": [
    {
     "name": "stdout",
     "output_type": "stream",
     "text": [
      "[[[0.41432262 0.78150168 0.78157862]\n",
      "  [0.39488698 0.37623119 0.10637587]\n",
      "  [0.34311722 0.30150528 0.52794343]]\n",
      "\n",
      " [[0.22033045 0.360282   0.78697753]\n",
      "  [0.91947256 0.84173847 0.20867691]\n",
      "  [0.62356564 0.36806771 0.45688957]]\n",
      "\n",
      " [[0.96952637 0.43707663 0.80015264]\n",
      "  [0.82199114 0.91105869 0.38630412]\n",
      "  [0.32038403 0.61530161 0.21109486]]]\n"
     ]
    }
   ],
   "source": [
    "import numpy as np\n",
    "random_array = np.random.random((3,3,3))\n",
    "print(random_array)"
   ]
  },
  {
   "cell_type": "code",
   "execution_count": null,
   "id": "603d32c8",
   "metadata": {},
   "outputs": [],
   "source": []
  }
 ],
 "metadata": {
  "kernelspec": {
   "display_name": "Python 3 (ipykernel)",
   "language": "python",
   "name": "python3"
  },
  "language_info": {
   "codemirror_mode": {
    "name": "ipython",
    "version": 3
   },
   "file_extension": ".py",
   "mimetype": "text/x-python",
   "name": "python",
   "nbconvert_exporter": "python",
   "pygments_lexer": "ipython3",
   "version": "3.9.7"
  }
 },
 "nbformat": 4,
 "nbformat_minor": 5
}
