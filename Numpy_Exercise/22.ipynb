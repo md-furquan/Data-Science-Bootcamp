{
 "cells": [
  {
   "cell_type": "markdown",
   "id": "56f1c0ba",
   "metadata": {},
   "source": [
    "# 22. Normalize a 5x5 random matrix"
   ]
  },
  {
   "cell_type": "code",
   "execution_count": 11,
   "id": "833561cb",
   "metadata": {},
   "outputs": [
    {
     "name": "stdout",
     "output_type": "stream",
     "text": [
      "[[0.10040829 0.28767757 0.21983294 0.264507   0.12757421]\n",
      " [0.19578438 0.00653875 0.28068808 0.31686119 0.2001276 ]\n",
      " [0.27176649 0.56825741 0.05838532 0.06696531 0.03462547]\n",
      " [0.04361433 0.03577638 0.53069326 0.17290614 0.21700988]\n",
      " [0.21469032 0.13990908 0.20461782 0.00658363 0.43419915]]\n"
     ]
    }
   ],
   "source": [
    "import numpy as np\n",
    "a = np.random.random((25)).reshape(5,5)\n",
    "row_sums = a.sum(axis=1)\n",
    "new_matrix = a / row_sums[:, np.newaxis]\n",
    "print(new_matrix)\n",
    "\n",
    "#Broadcasting is really good for this"
   ]
  }
 ],
 "metadata": {
  "kernelspec": {
   "display_name": "Python 3 (ipykernel)",
   "language": "python",
   "name": "python3"
  },
  "language_info": {
   "codemirror_mode": {
    "name": "ipython",
    "version": 3
   },
   "file_extension": ".py",
   "mimetype": "text/x-python",
   "name": "python",
   "nbconvert_exporter": "python",
   "pygments_lexer": "ipython3",
   "version": "3.9.7"
  }
 },
 "nbformat": 4,
 "nbformat_minor": 5
}
