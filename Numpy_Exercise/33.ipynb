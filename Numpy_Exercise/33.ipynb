{
 "cells": [
  {
   "cell_type": "markdown",
   "id": "751c964f",
   "metadata": {},
   "source": [
    "# 33. How to get the dates of yesterday, today and tomorrow?"
   ]
  },
  {
   "cell_type": "code",
   "execution_count": 5,
   "id": "505026c7",
   "metadata": {},
   "outputs": [
    {
     "name": "stdout",
     "output_type": "stream",
     "text": [
      "Yesterday Date: 2022-10-14\n",
      "Today Date    : 2022-10-15\n",
      "Tomorrow Date : 2022-10-16\n"
     ]
    }
   ],
   "source": [
    "import numpy as np\n",
    "yesterday_date  = np.datetime64('today') - np.timedelta64(1) \n",
    "today_date      = np.datetime64('today')\n",
    "tomorrow_date   = np.datetime64('today') + np.timedelta64(1)\n",
    "print(f\"Yesterday Date: {yesterday_date}\")\n",
    "print(f\"Today Date    : {today_date}\")\n",
    "print(f\"Tomorrow Date : {tomorrow_date}\")"
   ]
  }
 ],
 "metadata": {
  "kernelspec": {
   "display_name": "Python 3 (ipykernel)",
   "language": "python",
   "name": "python3"
  },
  "language_info": {
   "codemirror_mode": {
    "name": "ipython",
    "version": 3
   },
   "file_extension": ".py",
   "mimetype": "text/x-python",
   "name": "python",
   "nbconvert_exporter": "python",
   "pygments_lexer": "ipython3",
   "version": "3.9.7"
  }
 },
 "nbformat": 4,
 "nbformat_minor": 5
}
