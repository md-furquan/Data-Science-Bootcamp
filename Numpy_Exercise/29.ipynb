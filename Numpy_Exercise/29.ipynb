{
 "cells": [
  {
   "cell_type": "markdown",
   "id": "30ddc468",
   "metadata": {},
   "source": [
    "# 29. How to round away from zero a float array ?"
   ]
  },
  {
   "cell_type": "code",
   "execution_count": 9,
   "id": "b3fa713e",
   "metadata": {},
   "outputs": [
    {
     "name": "stdout",
     "output_type": "stream",
     "text": [
      "Array Before Rouding: [-8.6763196   2.07592324  9.36897078 -5.32779325 -8.67533233  7.24109483\n",
      "  3.55230552  0.0694001  -2.62721052  0.53710338]\n",
      "Array After Rounding: [-9.  3. 10. -6. -9.  8.  4.  1. -3.  1.]\n"
     ]
    }
   ],
   "source": [
    "import numpy as np\n",
    "arr = np.random.uniform(-10,+10,10)\n",
    "print(f\"Array Before Rouding: {arr}\")\n",
    "arr_rounded = np.copysign(np.ceil(np.abs(arr)), arr)\n",
    "print(f\"Array After Rounding: {arr_rounded}\")"
   ]
  }
 ],
 "metadata": {
  "kernelspec": {
   "display_name": "Python 3 (ipykernel)",
   "language": "python",
   "name": "python3"
  },
  "language_info": {
   "codemirror_mode": {
    "name": "ipython",
    "version": 3
   },
   "file_extension": ".py",
   "mimetype": "text/x-python",
   "name": "python",
   "nbconvert_exporter": "python",
   "pygments_lexer": "ipython3",
   "version": "3.9.7"
  }
 },
 "nbformat": 4,
 "nbformat_minor": 5
}
