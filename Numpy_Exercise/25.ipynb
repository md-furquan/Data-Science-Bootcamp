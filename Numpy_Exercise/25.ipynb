{
 "cells": [
  {
   "cell_type": "markdown",
   "id": "31c42b96",
   "metadata": {},
   "source": [
    "# 25. Given a 1D array, negate all elements which are between 3 and 8, in place"
   ]
  },
  {
   "cell_type": "code",
   "execution_count": 6,
   "id": "77c6b893",
   "metadata": {},
   "outputs": [
    {
     "name": "stdout",
     "output_type": "stream",
     "text": [
      "[   0    1    2    3 -999 -999 -999 -999    8    9   10   11   12   13\n",
      "   14   15   16   17   18   19]\n"
     ]
    }
   ],
   "source": [
    "import numpy as np\n",
    "array = np.arange(20)\n",
    "array[(3 < array) & (array < 8)] = -999\n",
    "print(array)"
   ]
  }
 ],
 "metadata": {
  "kernelspec": {
   "display_name": "Python 3 (ipykernel)",
   "language": "python",
   "name": "python3"
  },
  "language_info": {
   "codemirror_mode": {
    "name": "ipython",
    "version": 3
   },
   "file_extension": ".py",
   "mimetype": "text/x-python",
   "name": "python",
   "nbconvert_exporter": "python",
   "pygments_lexer": "ipython3",
   "version": "3.9.7"
  }
 },
 "nbformat": 4,
 "nbformat_minor": 5
}
