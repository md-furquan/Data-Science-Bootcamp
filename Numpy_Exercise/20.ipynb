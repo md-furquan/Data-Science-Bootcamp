{
 "cells": [
  {
   "cell_type": "markdown",
   "id": "fa4e7335",
   "metadata": {},
   "source": [
    "# 20. Consider a (6,7,8) shape array, what is the index (x,y,z) of the 100th element?"
   ]
  },
  {
   "cell_type": "code",
   "execution_count": 12,
   "id": "a168634a",
   "metadata": {},
   "outputs": [
    {
     "name": "stdout",
     "output_type": "stream",
     "text": [
      "(1, 5, 3)\n",
      "(3, 2, 2)\n"
     ]
    }
   ],
   "source": [
    "import numpy as np\n",
    "print(np.unravel_index(99,(6,7,8),order='C'))\n",
    "print(np.unravel_index(99,(6,7,8),order='F'))\n",
    "#numpy.unravel_index(indices, shape, order='C')\n",
    "#order{‘C’, ‘F’} Determines whether the indices should be viewed \n",
    "#as indexing in row-major (C-style) or column-major (Fortran-style) order."
   ]
  }
 ],
 "metadata": {
  "kernelspec": {
   "display_name": "Python 3 (ipykernel)",
   "language": "python",
   "name": "python3"
  },
  "language_info": {
   "codemirror_mode": {
    "name": "ipython",
    "version": 3
   },
   "file_extension": ".py",
   "mimetype": "text/x-python",
   "name": "python",
   "nbconvert_exporter": "python",
   "pygments_lexer": "ipython3",
   "version": "3.9.7"
  }
 },
 "nbformat": 4,
 "nbformat_minor": 5
}
