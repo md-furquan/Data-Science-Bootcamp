{
 "cells": [
  {
   "cell_type": "markdown",
   "id": "d12a9f0a",
   "metadata": {},
   "source": [
    "# 16. How to add a border (filled with 0's) around an existing array?"
   ]
  },
  {
   "cell_type": "code",
   "execution_count": 17,
   "id": "86c52a89",
   "metadata": {},
   "outputs": [
    {
     "name": "stdout",
     "output_type": "stream",
     "text": [
      "Existing Array:\n",
      "[[1 1 1 1 1]\n",
      " [1 1 1 1 1]\n",
      " [1 1 1 1 1]]\n",
      "Array with a border filled with zeros\n",
      "[[0 0 0 0 0 0 0]\n",
      " [0 1 1 1 1 1 0]\n",
      " [0 1 1 1 1 1 0]\n",
      " [0 1 1 1 1 1 0]\n",
      " [0 1 1 1 1 1 0]\n",
      " [0 0 0 0 0 0 0]]\n"
     ]
    }
   ],
   "source": [
    "import numpy as np\n",
    "array_2d = [[1, 1, 1,1, 1],[1, 1, 1,1, 1], [1, 1, 1,1, 1]]\n",
    "array_original = np.array(array_2d)\n",
    "print(\"Existing Array:\")\n",
    "print(array_original)\n",
    "print(\"Array with a border filled with zeros\")\n",
    "array_need = [[0,0, 0, 0,0, 0,0],[0,1, 1, 1,1, 1,0],[0,1, 1, 1,1, 1,0],[0,1, 1, 1,1, 1,0],[0,1, 1, 1,1, 1,0], [0,0, 0, 0,0, 0,0]]\n",
    "array_zero_border = np.array(array_need)\n",
    "print(array_zero_border)"
   ]
  },
  {
   "cell_type": "code",
   "execution_count": 25,
   "id": "b66ebf46",
   "metadata": {},
   "outputs": [
    {
     "name": "stdout",
     "output_type": "stream",
     "text": [
      "[[0 0 0 0 0 0]\n",
      " [0 1 1 1 1 0]\n",
      " [0 1 1 1 1 0]\n",
      " [0 1 1 1 1 0]\n",
      " [0 1 1 1 1 0]\n",
      " [0 1 1 1 1 0]\n",
      " [0 0 0 0 0 0]]\n"
     ]
    }
   ],
   "source": [
    "Z = [[1, 1, 1,1,1, 1],[1, 1, 1,1,1, 1],[1, 1, 1,1,1, 1],[1,1, 1, 1,1, 1],[1,1, 1, 1,1, 1],[1,1, 1, 1,1, 1], [1,1, 1, 1,1, 1]]\n",
    "Z = np.array(Z)\n",
    "Z[:, [0, -1]] = 0\n",
    "Z[[0, -1], :] = 0\n",
    "print(Z)"
   ]
  }
 ],
 "metadata": {
  "kernelspec": {
   "display_name": "Python 3 (ipykernel)",
   "language": "python",
   "name": "python3"
  },
  "language_info": {
   "codemirror_mode": {
    "name": "ipython",
    "version": 3
   },
   "file_extension": ".py",
   "mimetype": "text/x-python",
   "name": "python",
   "nbconvert_exporter": "python",
   "pygments_lexer": "ipython3",
   "version": "3.9.7"
  }
 },
 "nbformat": 4,
 "nbformat_minor": 5
}
