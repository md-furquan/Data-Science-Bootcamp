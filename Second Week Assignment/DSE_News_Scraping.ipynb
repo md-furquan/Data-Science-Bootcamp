{
  "nbformat": 4,
  "nbformat_minor": 0,
  "metadata": {
    "colab": {
      "provenance": [],
      "authorship_tag": "ABX9TyPJSsggn5EbmnZ+pLzKNC2i",
      "include_colab_link": true
    },
    "kernelspec": {
      "name": "python3",
      "display_name": "Python 3"
    },
    "language_info": {
      "name": "python"
    }
  },
  "cells": [
    {
      "cell_type": "markdown",
      "metadata": {
        "id": "view-in-github",
        "colab_type": "text"
      },
      "source": [
        "<a href=\"https://colab.research.google.com/github/md-furquan/Data-Science-Bootcamp/blob/main/Second%20Week%20Assignment/DSE_News_Scraping.ipynb\" target=\"_parent\"><img src=\"https://colab.research.google.com/assets/colab-badge.svg\" alt=\"Open In Colab\"/></a>"
      ]
    },
    {
      "cell_type": "markdown",
      "source": [
        "Dhaka Stock Exchange News: Scraping"
      ],
      "metadata": {
        "id": "1Sv-w61xiB_T"
      }
    },
    {
      "cell_type": "code",
      "execution_count": null,
      "metadata": {
        "id": "Jgb2eM1b7v2A"
      },
      "outputs": [],
      "source": [
        "!pip install requests-html"
      ]
    },
    {
      "cell_type": "code",
      "source": [
        "from requests_html import HTMLSession"
      ],
      "metadata": {
        "id": "vn5xer3a8ZVl"
      },
      "execution_count": null,
      "outputs": []
    },
    {
      "cell_type": "code",
      "source": [
        "session = HTMLSession()"
      ],
      "metadata": {
        "id": "k9sT5eZD8o1m"
      },
      "execution_count": null,
      "outputs": []
    },
    {
      "cell_type": "code",
      "source": [
        "def DSE_News_Scraping(year):\n",
        "  !mkdir {year}\n",
        "  url =f\"https://www.dsebd.org/old_news.php?startDate={year}-01-01&endDate={year}-12-31&criteria=4&archive=news\"\n",
        "  month=[\"January\",\"February\",\"March\",\"April\",\"May\",\"June\",\"July\",\"August\",\"September\", \"October\",\"November\",\"December\"]\n",
        "  for i in range(1,13,1):\n",
        "    url = f\"https://www.dsebd.org/old_news.php?startDate={year}-{i}-01&endDate={year}-{i}-31&criteria=4&archive=news\"\n",
        "    r = session.get(url)\n",
        "    dse_news = r.html.find(\".table-news\")[0].text\n",
        "    dse_news_lst = dse_news.split('\\n')\n",
        "    trading_code = dse_news_lst[1::8]\n",
        "    news_title = dse_news_lst[3::8]\n",
        "    news = dse_news_lst[5::8]\n",
        "    post_date = dse_news_lst[7::8]\n",
        "    with open(f\"/content/{year}/{month[i-1]}.txt\", \"w\") as f:\n",
        "      f.write(\"No, Trading Code, News Title, News, Post Date\\n\")\n",
        "      for i, t, nt, n, p in zip(range(1, len(trading_code)+1), trading_code, news_title, news, post_date):\n",
        "        f.write(f\"{i}, {t}, {nt}, {n}, {p}\")\n",
        "        f.write('\\n')\n",
        "\n",
        "year = input(\"Enter the Year you want to save information:\")\n",
        "DSE_News_Scraping(year)"
      ],
      "metadata": {
        "id": "eD5dKIggWXPz"
      },
      "execution_count": null,
      "outputs": []
    },
    {
      "cell_type": "markdown",
      "source": [],
      "metadata": {
        "id": "freDjPU7U4Nt"
      }
    }
  ]
}