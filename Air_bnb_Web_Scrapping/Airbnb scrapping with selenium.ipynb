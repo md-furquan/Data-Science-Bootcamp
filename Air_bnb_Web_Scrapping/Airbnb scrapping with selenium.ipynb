{
 "cells": [
  {
   "cell_type": "code",
   "execution_count": 2,
   "id": "595695b6",
   "metadata": {
    "collapsed": true
   },
   "outputs": [
    {
     "name": "stdout",
     "output_type": "stream",
     "text": [
      "Requirement already satisfied: selenium in c:\\programdata\\anaconda3\\lib\\site-packages (4.5.0)\n",
      "Requirement already satisfied: certifi>=2021.10.8 in c:\\programdata\\anaconda3\\lib\\site-packages (from selenium) (2021.10.8)\n",
      "Requirement already satisfied: trio-websocket~=0.9 in c:\\programdata\\anaconda3\\lib\\site-packages (from selenium) (0.9.2)\n",
      "Requirement already satisfied: trio~=0.17 in c:\\programdata\\anaconda3\\lib\\site-packages (from selenium) (0.21.0)\n",
      "Requirement already satisfied: urllib3[socks]~=1.26 in c:\\programdata\\anaconda3\\lib\\site-packages (from selenium) (1.26.7)\n",
      "Requirement already satisfied: sniffio in c:\\programdata\\anaconda3\\lib\\site-packages (from trio~=0.17->selenium) (1.2.0)\n",
      "Requirement already satisfied: async-generator>=1.9 in c:\\programdata\\anaconda3\\lib\\site-packages (from trio~=0.17->selenium) (1.10)\n",
      "Requirement already satisfied: cffi>=1.14 in c:\\programdata\\anaconda3\\lib\\site-packages (from trio~=0.17->selenium) (1.14.6)\n",
      "Requirement already satisfied: idna in c:\\programdata\\anaconda3\\lib\\site-packages (from trio~=0.17->selenium) (3.2)\n",
      "Requirement already satisfied: sortedcontainers in c:\\programdata\\anaconda3\\lib\\site-packages (from trio~=0.17->selenium) (2.4.0)\n",
      "Requirement already satisfied: outcome in c:\\programdata\\anaconda3\\lib\\site-packages (from trio~=0.17->selenium) (1.2.0)\n",
      "Requirement already satisfied: attrs>=19.2.0 in c:\\programdata\\anaconda3\\lib\\site-packages (from trio~=0.17->selenium) (21.2.0)\n",
      "Requirement already satisfied: pycparser in c:\\programdata\\anaconda3\\lib\\site-packages (from cffi>=1.14->trio~=0.17->selenium) (2.20)\n",
      "Requirement already satisfied: wsproto>=0.14 in c:\\programdata\\anaconda3\\lib\\site-packages (from trio-websocket~=0.9->selenium) (1.2.0)\n",
      "Requirement already satisfied: PySocks!=1.5.7,<2.0,>=1.5.6 in c:\\programdata\\anaconda3\\lib\\site-packages (from urllib3[socks]~=1.26->selenium) (1.7.1)\n",
      "Requirement already satisfied: h11<1,>=0.9.0 in c:\\programdata\\anaconda3\\lib\\site-packages (from wsproto>=0.14->trio-websocket~=0.9->selenium) (0.13.0)\n"
     ]
    }
   ],
   "source": [
    "!pip install selenium"
   ]
  },
  {
   "cell_type": "code",
   "execution_count": null,
   "id": "dc7d0809",
   "metadata": {},
   "outputs": [],
   "source": [
    "!pip install --upgrade selenium"
   ]
  },
  {
   "cell_type": "code",
   "execution_count": 3,
   "id": "2aaf04e1",
   "metadata": {
    "collapsed": true
   },
   "outputs": [
    {
     "name": "stdout",
     "output_type": "stream",
     "text": [
      "Requirement already satisfied: requests-html in c:\\programdata\\anaconda3\\lib\\site-packages (0.10.0)\n",
      "Requirement already satisfied: bs4 in c:\\programdata\\anaconda3\\lib\\site-packages (from requests-html) (0.0.1)\n",
      "Requirement already satisfied: pyppeteer>=0.0.14 in c:\\programdata\\anaconda3\\lib\\site-packages (from requests-html) (1.0.2)\n",
      "Requirement already satisfied: w3lib in c:\\programdata\\anaconda3\\lib\\site-packages (from requests-html) (2.0.1)\n",
      "Requirement already satisfied: pyquery in c:\\programdata\\anaconda3\\lib\\site-packages (from requests-html) (1.4.3)\n",
      "Requirement already satisfied: parse in c:\\programdata\\anaconda3\\lib\\site-packages (from requests-html) (1.19.0)\n",
      "Requirement already satisfied: requests in c:\\programdata\\anaconda3\\lib\\site-packages (from requests-html) (2.26.0)\n",
      "Requirement already satisfied: fake-useragent in c:\\programdata\\anaconda3\\lib\\site-packages (from requests-html) (0.1.11)\n",
      "Requirement already satisfied: appdirs<2.0.0,>=1.4.3 in c:\\programdata\\anaconda3\\lib\\site-packages (from pyppeteer>=0.0.14->requests-html) (1.4.4)\n",
      "Requirement already satisfied: pyee<9.0.0,>=8.1.0 in c:\\programdata\\anaconda3\\lib\\site-packages (from pyppeteer>=0.0.14->requests-html) (8.2.2)\n",
      "Requirement already satisfied: certifi>=2021 in c:\\programdata\\anaconda3\\lib\\site-packages (from pyppeteer>=0.0.14->requests-html) (2021.10.8)\n",
      "Requirement already satisfied: tqdm<5.0.0,>=4.42.1 in c:\\programdata\\anaconda3\\lib\\site-packages (from pyppeteer>=0.0.14->requests-html) (4.62.3)\n",
      "Requirement already satisfied: importlib-metadata>=1.4 in c:\\programdata\\anaconda3\\lib\\site-packages (from pyppeteer>=0.0.14->requests-html) (4.8.1)\n",
      "Requirement already satisfied: websockets<11.0,>=10.0 in c:\\programdata\\anaconda3\\lib\\site-packages (from pyppeteer>=0.0.14->requests-html) (10.3)\n",
      "Requirement already satisfied: urllib3<2.0.0,>=1.25.8 in c:\\programdata\\anaconda3\\lib\\site-packages (from pyppeteer>=0.0.14->requests-html) (1.26.7)\n",
      "Requirement already satisfied: zipp>=0.5 in c:\\programdata\\anaconda3\\lib\\site-packages (from importlib-metadata>=1.4->pyppeteer>=0.0.14->requests-html) (3.6.0)\n",
      "Requirement already satisfied: colorama in c:\\programdata\\anaconda3\\lib\\site-packages (from tqdm<5.0.0,>=4.42.1->pyppeteer>=0.0.14->requests-html) (0.4.4)\n",
      "Requirement already satisfied: beautifulsoup4 in c:\\programdata\\anaconda3\\lib\\site-packages (from bs4->requests-html) (4.10.0)\n",
      "Requirement already satisfied: soupsieve>1.2 in c:\\programdata\\anaconda3\\lib\\site-packages (from beautifulsoup4->bs4->requests-html) (2.2.1)\n",
      "Requirement already satisfied: cssselect>0.7.9 in c:\\programdata\\anaconda3\\lib\\site-packages (from pyquery->requests-html) (1.1.0)\n",
      "Requirement already satisfied: lxml>=2.1 in c:\\programdata\\anaconda3\\lib\\site-packages (from pyquery->requests-html) (4.6.3)\n",
      "Requirement already satisfied: charset-normalizer~=2.0.0 in c:\\programdata\\anaconda3\\lib\\site-packages (from requests->requests-html) (2.0.4)\n",
      "Requirement already satisfied: idna<4,>=2.5 in c:\\programdata\\anaconda3\\lib\\site-packages (from requests->requests-html) (3.2)\n"
     ]
    }
   ],
   "source": [
    "!pip install requests-html"
   ]
  },
  {
   "cell_type": "code",
   "execution_count": 4,
   "id": "ff566449",
   "metadata": {},
   "outputs": [],
   "source": [
    "import pandas as pd\n",
    "from datetime import datetime\n",
    "import requests\n",
    "import time \n",
    "from requests_html import HTMLSession\n",
    "from PIL import Image\n",
    "from io import BytesIO\n",
    "\n",
    "from selenium import webdriver\n",
    "from selenium.webdriver.common.keys import Keys\n",
    "from selenium.webdriver.chrome.service import Service\n",
    "from selenium.webdriver.common.by import By\n",
    "from selenium.webdriver.support.ui import WebDriverWait\n",
    "from selenium.webdriver.support import expected_conditions as EC\n",
    "from IPython.display import display, clear_output"
   ]
  },
  {
   "cell_type": "code",
   "execution_count": 5,
   "id": "db4c9ec0",
   "metadata": {},
   "outputs": [],
   "source": [
    "s = Service('chromedriver')\n",
    "driver = webdriver.Chrome(service=s)"
   ]
  },
  {
   "cell_type": "code",
   "execution_count": 6,
   "id": "63a8defd",
   "metadata": {},
   "outputs": [],
   "source": [
    "driver.get(\"https://www.airbnb.com/?tab_id=home_tab&refinement_paths%5B%5D=%2Fhomes&search_mode=flex_destinations_search&flexible_trip_lengths%5B%5D=one_week&location_search=MIN_MAP_BOUNDS&price_filter_input_type=0&category_tag=Tag%3A7769&search_type=category_change\")"
   ]
  },
  {
   "cell_type": "code",
   "execution_count": null,
   "id": "244d0bf4",
   "metadata": {},
   "outputs": [],
   "source": [
    "def scroll_window():\n",
    "    total_height = 33000\n",
    "    for i in range(1, total_height, 700):\n",
    "        driver.execute_script(\"window.scrollTo(0, {});\".format(i))\n",
    "        time.sleep(3)"
   ]
  },
  {
   "cell_type": "code",
   "execution_count": null,
   "id": "0cee6835",
   "metadata": {},
   "outputs": [],
   "source": [
    "scroll_window()\n",
    "time.sleep(3)\n",
    "beach_links=driver.find_elements(by=By.CLASS_NAME,value=\"ln2bl2p\")\n",
    "print(len(beach_links))\n",
    "with open(\"beach_urls.txt\",\"w\") as f:\n",
    "    for i in beach_links:\n",
    "        f.write(i.get_attribute('href'))\n",
    "        f.write(\"\\n\")"
   ]
  },
  {
   "cell_type": "markdown",
   "id": "550ebf6f",
   "metadata": {},
   "source": [
    "# Function for Title"
   ]
  },
  {
   "cell_type": "code",
   "execution_count": 7,
   "id": "59b7faac",
   "metadata": {},
   "outputs": [],
   "source": [
    "def titleHeading(driver):\n",
    "    try:\n",
    "        title=driver.find_element(by=By.CLASS_NAME,value=\"_fecoyn4\").text\n",
    "        print(\"title\",title)\n",
    "        return title\n",
    "    except:\n",
    "        print(\"destination not found , may be link is broken\")\n",
    "        return None"
   ]
  },
  {
   "cell_type": "markdown",
   "id": "13982b4e",
   "metadata": {},
   "source": [
    "# Function for Rating"
   ]
  },
  {
   "cell_type": "code",
   "execution_count": 8,
   "id": "36897ada",
   "metadata": {},
   "outputs": [],
   "source": [
    "def placeRating(driver):\n",
    "    try:\n",
    "        rating=driver.find_element(by=By.CLASS_NAME,value=\"_17p6nbba\").text\n",
    "        print(\"rating\",rating)\n",
    "        return rating\n",
    "    except:\n",
    "        print(\"destination not found , may be link is broken\")\n",
    "        return None"
   ]
  },
  {
   "cell_type": "markdown",
   "id": "fe91c72d",
   "metadata": {},
   "source": [
    "# Function for Reviews"
   ]
  },
  {
   "cell_type": "code",
   "execution_count": 9,
   "id": "e9909a91",
   "metadata": {},
   "outputs": [],
   "source": [
    "def placeTotalReviw(driver):\n",
    "    try:\n",
    "        reviewNumber=driver.find_element(by=By.CLASS_NAME,value=\"_11eqlma4\").text\n",
    "        print(\"total_reviews\",reviewNumber)\n",
    "        return reviewNumber\n",
    "    except:\n",
    "        print(\"destination not found , may be link is broken\")\n",
    "        return None"
   ]
  },
  {
   "cell_type": "markdown",
   "id": "a22417d9",
   "metadata": {},
   "source": [
    "# Function for Price"
   ]
  },
  {
   "cell_type": "code",
   "execution_count": 10,
   "id": "4e430854",
   "metadata": {},
   "outputs": [],
   "source": [
    "def placeRent(driver):\n",
    "    try:\n",
    "        time.sleep(3)\n",
    "        rent=driver.find_element(by=By.XPATH,value=\"//*/div/div[1]/div[3]/div/div[2]/div/div/div[1]/div/div/div/div/div/div/div[1]/div[1]/div[1]/div/span/div/span[1]\").text\n",
    "        print(\"Place_rent\",rent)\n",
    "        return rent\n",
    "    except:\n",
    "        print(\"destination not found , may be link is broken\")\n",
    "        return None"
   ]
  },
  {
   "cell_type": "markdown",
   "id": "13f29283",
   "metadata": {},
   "source": [
    "# Function for Location"
   ]
  },
  {
   "cell_type": "code",
   "execution_count": 11,
   "id": "fa3afd39",
   "metadata": {},
   "outputs": [],
   "source": [
    "def placeLocation(driver):\n",
    "    try:\n",
    "        location=driver.find_element(by=By.CLASS_NAME,value=\"_9xiloll\").text\n",
    "        print(\"Location\",location)\n",
    "        return location\n",
    "    except:\n",
    "        print(\"destination not found , may be link is broken\")\n",
    "        return None"
   ]
  },
  {
   "cell_type": "markdown",
   "id": "896758c6",
   "metadata": {},
   "source": [
    "# Function for Description"
   ]
  },
  {
   "cell_type": "code",
   "execution_count": 12,
   "id": "d77367cf",
   "metadata": {},
   "outputs": [],
   "source": [
    "def placeDescription(driver):\n",
    "    try:\n",
    "        if(show_more_click(driver,\"desc\")==True):\n",
    "            time.sleep(3)\n",
    "            description =WebDriverWait(driver, 20).until(EC.visibility_of_element_located((By.XPATH, \"/html/body/div[11]/section/div/div/div[2]/div/div[2]/div/div/div/div/div/div/div/div/section\"))).text\n",
    "            driver.back()\n",
    "        else:\n",
    "            description=driver.find_element(by=By.XPATH,value=\"//*/div/div[1]/div[3]/div/div[1]/div/div[4]/div/div[2]/div/span/span\").text        \n",
    "#         driver.refresh()\n",
    "        print(\"Place_description\",description)\n",
    "        return description\n",
    "    except:\n",
    "        print(\"destination not found , may be link is broken\")\n",
    "        return None"
   ]
  },
  {
   "cell_type": "markdown",
   "id": "f3c03a70",
   "metadata": {},
   "source": [
    "# Opening Driver"
   ]
  },
  {
   "cell_type": "code",
   "execution_count": 13,
   "id": "1129506d",
   "metadata": {},
   "outputs": [],
   "source": [
    "#open driver\n",
    "def openDriver():\n",
    "    op=webdriver.ChromeOptions()\n",
    "    op.add_argument(\"headless\")\n",
    "    s = Service('chromedriver')\n",
    "    driver = webdriver.Chrome(service=s)\n",
    "    return driver"
   ]
  },
  {
   "cell_type": "markdown",
   "id": "ce772af1",
   "metadata": {},
   "source": [
    "# Single Url Scrapping"
   ]
  },
  {
   "cell_type": "code",
   "execution_count": 15,
   "id": "1d59c721",
   "metadata": {},
   "outputs": [],
   "source": [
    "def product_scrap(driver,url,category):\n",
    "    driver.get(url)\n",
    "    time.sleep(5)\n",
    "    #single page data scrapping\n",
    "    title=titleHeading(driver)\n",
    "    #place rating\n",
    "    rating=placeRating(driver)\n",
    "    #place total review\n",
    "    total_review=placeTotalReviw(driver)\n",
    "    #place rent\n",
    "    rent=placeRent(driver)\n",
    "    #place location\n",
    "    location=placeLocation(driver)\n",
    "    #place description\n",
    "    description=placeDescription(driver)\n",
    "    time.sleep(2)\n",
    "    return title,rating,total_review,rent,location,description\n"
   ]
  },
  {
   "cell_type": "markdown",
   "id": "ac7966e6",
   "metadata": {},
   "source": [
    "# All URLs Scrapping"
   ]
  },
  {
   "cell_type": "code",
   "execution_count": 18,
   "id": "50b4062f",
   "metadata": {},
   "outputs": [
    {
     "name": "stdout",
     "output_type": "stream",
     "text": [
      "43 https://www.airbnb.com/rooms/26091857?adults=1&category_tag=Tag%3A7769&children=0&infants=0&search_mode=flex_destinations_search&check_in=2022-11-13&check_out=2022-11-18&previous_page_section_name=1000&federated_search_id=9f9047f1-6ca1-4808-a9a3-10c9efa502a1\n",
      "\n",
      "title Flat 601, Rizvi Mahal, Waterfield Road, Bandra W\n",
      "rating 5.0 ·\n",
      "total_reviews 14 reviews\n",
      "Place_rent $42\n",
      "Location Mumbai, Maharashtra, India\n",
      "destination not found , may be link is broken\n",
      "=============================================\n"
     ]
    }
   ],
   "source": [
    "category=\"destination_images\"\n",
    "with open(\"beach_urls.txt\",\"r\") as f:\n",
    "    single_url=f.readlines()\n",
    "    titles,ratings,total_reviews,rents,locations,descriptions=[],[],[],[],[],[]\n",
    "    airbnb_scrap_partwise(0,98,titles,ratings,total_reviews,rents,locations,descriptions)\n",
    "    time.sleep(30)\n",
    "    airbnb_scrap_partwise(99,180,titles,ratings,total_reviews,rents,locations,descriptions)\n",
    "    time.sleep(30)\n",
    "    airbnb_scrap_partwise(181,224,titles,ratings,total_reviews,rents,locations,descriptions)"
   ]
  },
  {
   "cell_type": "markdown",
   "id": "942993ad",
   "metadata": {},
   "source": [
    "# Liminted Number of URLs Scrapping"
   ]
  },
  {
   "cell_type": "code",
   "execution_count": 17,
   "id": "0d024532",
   "metadata": {},
   "outputs": [],
   "source": [
    "def airbnb_scrap_partwise(num1,num2,titles,ratings,total_reviews,rents,locations,descriptions):\n",
    "    cnt=1\n",
    "    for s in single_url[num1:num2]:\n",
    "        print(cnt,s)\n",
    "        driver=openDriver()\n",
    "        title,rating,total_review,rent,location,description=product_scrap(driver,s,category)\n",
    "        if title:\n",
    "            titles.append(title)\n",
    "            ratings.append(rating)\n",
    "            total_reviews.append(total_review)\n",
    "            rents.append(rent)\n",
    "            locations.append(location)\n",
    "            descriptions.append(description)\n",
    "           \n",
    "            \n",
    "            cnt+=1\n",
    "            print(\"=============================================\")\n",
    "            clear_output(wait=True)\n",
    "    "
   ]
  },
  {
   "cell_type": "markdown",
   "id": "767fbe8b",
   "metadata": {},
   "source": [
    "# Saving Information in Text File"
   ]
  },
  {
   "cell_type": "code",
   "execution_count": 19,
   "id": "b266cb29",
   "metadata": {},
   "outputs": [],
   "source": [
    "with open(\"Airbnb_Scrab.txt\",\"w\",encoding=\"utf-8\") as f:\n",
    "    f.write(\"No ,Title ,Ratings ,Total_reviews ,Rents ,Location ,Description\")\n",
    "    f.write(\"\\n\\n\")\n",
    "    for i,t,r,tr,ren,l,d in zip(range(1,len(titles)+1),titles,ratings,total_reviews,rents,locations,descriptions):\n",
    "        f.write(f\"{i} ,{t} ,{r} ,{tr} ,{ren} ,{l} ,{d} \")\n",
    "        f.write(\"\\n\\n\")"
   ]
  },
  {
   "cell_type": "code",
   "execution_count": null,
   "id": "08f65aef",
   "metadata": {},
   "outputs": [],
   "source": []
  }
 ],
 "metadata": {
  "kernelspec": {
   "display_name": "Python 3 (ipykernel)",
   "language": "python",
   "name": "python3"
  },
  "language_info": {
   "codemirror_mode": {
    "name": "ipython",
    "version": 3
   },
   "file_extension": ".py",
   "mimetype": "text/x-python",
   "name": "python",
   "nbconvert_exporter": "python",
   "pygments_lexer": "ipython3",
   "version": "3.9.7"
  }
 },
 "nbformat": 4,
 "nbformat_minor": 5
}
