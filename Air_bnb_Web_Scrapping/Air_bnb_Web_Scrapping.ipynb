{
 "cells": [
  {
   "cell_type": "code",
   "execution_count": 1,
   "id": "0ed5f7c2",
   "metadata": {},
   "outputs": [],
   "source": [
    "from selenium import webdriver\n",
    "from selenium.webdriver.common.keys import Keys\n",
    "from selenium.webdriver.common.by import By\n",
    "from selenium.webdriver.chrome.service import Service\n",
    "from selenium.webdriver.support.ui import WebDriverWait\n",
    "from selenium.webdriver.support import expected_conditions as EC\n",
    "from IPython.display import display,clear_output\n",
    "\n",
    "import requests\n",
    "import time\n",
    "from requests_html import HTMLSession\n",
    "from PIL import Image"
   ]
  },
  {
   "cell_type": "code",
   "execution_count": 4,
   "id": "9c15d8fd",
   "metadata": {},
   "outputs": [],
   "source": [
    "s = Service('chromedriver')\n",
    "driver = webdriver.Chrome(service=s)"
   ]
  },
  {
   "cell_type": "code",
   "execution_count": 5,
   "id": "24976e19",
   "metadata": {},
   "outputs": [],
   "source": [
    "driver.get(\"https://www.airbnb.com/?tab_id=home_tab&refinement_paths%5B%5D=%2Fhomes&search_mode=flex_destinations_search&flexible_trip_lengths%5B%5D=one_week&location_search=MIN_MAP_BOUNDS&price_filter_input_type=0&category_tag=Tag%3A7769&search_type=category_change\")"
   ]
  },
  {
   "cell_type": "code",
   "execution_count": 6,
   "id": "940924d3",
   "metadata": {},
   "outputs": [],
   "source": [
    "def scroll_window():\n",
    "#     total_height = int(driver.execute_script(\"return document.body.scrollHeight\"))\n",
    "    total_height = 33000\n",
    "\n",
    "    for i in range(1, total_height, 700):\n",
    "        driver.execute_script(\"window.scrollTo(0, {});\".format(i))\n",
    "        time.sleep(3)"
   ]
  },
  {
   "cell_type": "code",
   "execution_count": 7,
   "id": "b52dbd2b",
   "metadata": {},
   "outputs": [
    {
     "name": "stdout",
     "output_type": "stream",
     "text": [
      "269\n"
     ]
    }
   ],
   "source": [
    "#collect all the destination links and store them in a file\n",
    "scroll_window()\n",
    "time.sleep(3)\n",
    "destinations_link=driver.find_elements(by=By.CLASS_NAME,value=\"ln2bl2p\")\n",
    "print(len(destinations_link))\n",
    "with open(\"destinations.txt\",\"w\") as f:\n",
    "    for i in destinations_link:\n",
    "        f.write(i.get_attribute('href'))\n",
    "        f.write(\"\\n\")"
   ]
  },
  {
   "cell_type": "code",
   "execution_count": 8,
   "id": "3964bc92",
   "metadata": {},
   "outputs": [],
   "source": [
    "#function for destination title\n",
    "def titleHeading(driver):\n",
    "    try:\n",
    "        title=driver.find_element(by=By.CLASS_NAME,value=\"_fecoyn4\").text\n",
    "        print(\"title\",title)\n",
    "        return title\n",
    "    except:\n",
    "        print(\"destination not found , may be link is broken\")\n",
    "        return None"
   ]
  },
  {
   "cell_type": "code",
   "execution_count": 9,
   "id": "d339b1c6",
   "metadata": {},
   "outputs": [],
   "source": [
    "#function for destination rating\n",
    "def placeRating(driver):\n",
    "    try:\n",
    "        rating=driver.find_element(by=By.CLASS_NAME,value=\"_17p6nbba\").text\n",
    "        print(\"rating\",rating)\n",
    "        return rating\n",
    "    except:\n",
    "        print(\"destination not found , may be link is broken\")\n",
    "        return None"
   ]
  },
  {
   "cell_type": "code",
   "execution_count": 10,
   "id": "509f2955",
   "metadata": {},
   "outputs": [],
   "source": [
    "#function for destination total reviews\n",
    "def placeTotalReviw(driver):\n",
    "    try:\n",
    "        reviewNumber=driver.find_element(by=By.CLASS_NAME,value=\"_11eqlma4\").text\n",
    "        print(\"total_reviews\",reviewNumber)\n",
    "        return reviewNumber\n",
    "    except:\n",
    "        print(\"destination not found , may be link is broken\")\n",
    "        return None"
   ]
  },
  {
   "cell_type": "code",
   "execution_count": 11,
   "id": "111ee260",
   "metadata": {},
   "outputs": [],
   "source": [
    "#function for destination location\n",
    "def placeLocation(driver):\n",
    "    try:\n",
    "        location=driver.find_element(by=By.CLASS_NAME,value=\"_9xiloll\").text\n",
    "        print(\"Location\",location)\n",
    "        return location\n",
    "    except:\n",
    "        print(\"destination not found , may be link is broken\")\n",
    "        return None"
   ]
  },
  {
   "cell_type": "code",
   "execution_count": 12,
   "id": "5315848d",
   "metadata": {},
   "outputs": [],
   "source": [
    "#function for destination price\n",
    "def placeRent(driver):\n",
    "    try:\n",
    "        time.sleep(3)\n",
    "        rent=driver.find_element(by=By.XPATH,value=\"//*/div/div[1]/div[3]/div/div[2]/div/div/div[1]/div/div/div/div/div/div/div[1]/div[1]/div[1]/div/span/div/span[1]\").text\n",
    "        print(\"Place_rent\",rent)\n",
    "        return rent\n",
    "    except:\n",
    "        print(\"destination not found , may be link is broken\")\n",
    "        return None"
   ]
  },
  {
   "cell_type": "code",
   "execution_count": 22,
   "id": "5374ace4",
   "metadata": {},
   "outputs": [],
   "source": [
    "#function for destination description\n",
    "def placeDescription(driver):\n",
    "    try:\n",
    "        if(show_more_click(driver,\"desc\")==True):\n",
    "            time.sleep(3)\n",
    "            description =WebDriverWait(driver, 20).until(EC.visibility_of_element_located((By.XPATH, \"/html/body/div[11]/section/div/div/div[2]/div/div[2]/div/div/div/div/div/div/div/div/section\"))).text\n",
    "            driver.back()\n",
    "        else:\n",
    "            description=driver.find_element(by=By.XPATH,value=\"//*/div/div[1]/div[3]/div/div[1]/div/div[4]/div/div[2]/div/span/span\").text        \n",
    "#         driver.refresh()\n",
    "        print(\"Place_description\",description)\n",
    "        return description\n",
    "    except:\n",
    "        print(\"destination not found , may be link is broken\")\n",
    "        return None"
   ]
  },
  {
   "cell_type": "code",
   "execution_count": 13,
   "id": "0d51a7fb",
   "metadata": {},
   "outputs": [],
   "source": [
    "#function for destination offers\n",
    "def placeOffers(driver):\n",
    "    try:\n",
    "        show_more_click(driver,\"feature\")\n",
    "        time.sleep(5)\n",
    "        \n",
    "        offers =WebDriverWait(driver, 20).until(EC.visibility_of_element_located((By.XPATH, \"/html/body/div[11]/section/div/div/div[2]/div/div[3]/div/div/div/div/section\"))).text\n",
    "        driver.back()\n",
    "#         driver.refresh()\n",
    "        print(\"Place_offers\",offers)\n",
    "        return offers\n",
    "    except:\n",
    "        print(\"destination not found , may be link is broken\")\n",
    "        return None"
   ]
  },
  {
   "cell_type": "code",
   "execution_count": 14,
   "id": "77afc6c0",
   "metadata": {},
   "outputs": [],
   "source": [
    "# function for show more click\n",
    "def show_more_click(driver,specify):\n",
    "#     print(type(specify))\n",
    "#     print(specify==\"desc\")\n",
    "    try:\n",
    "        if specify==\"img\":\n",
    "            driver.find_element(by=By.CLASS_NAME,value=\"_uhxsfg\").click()\n",
    "        elif specify==\"desc\":\n",
    "            driver.find_element(by=By.XPATH,value=\"//*/div/div[1]/div[3]/div/div[1]/div/div[5]/div/div/div[2]/button/span/span[1]\").click()\n",
    "        elif specify==\"feature\":\n",
    "            driver.find_element(by=By.CLASS_NAME,value=\"b65jmrv\").click()\n",
    "        return True\n",
    "    except:\n",
    "        print(\"no show more button\")\n",
    "        return False"
   ]
  },
  {
   "cell_type": "code",
   "execution_count": 15,
   "id": "d00ce05b",
   "metadata": {},
   "outputs": [],
   "source": [
    "#function for destination reviews\n",
    "def placeReviews(driver):\n",
    "    try:\n",
    "        reviews=driver.find_elements(by=By.CLASS_NAME,value=\"r1rl3yjt\")\n",
    "#         print(len(reviewss))\n",
    "        review_text=[\" \".join(i.text.split(\"\\n\")) for i in reviews]\n",
    "        Reviews=\" \".join(review_text)\n",
    "        print(\"reviews\",Reviews)\n",
    "        return Reviews\n",
    "    except:\n",
    "        print(\"destination not found , may be link is broken\")\n",
    "        return None"
   ]
  },
  {
   "cell_type": "code",
   "execution_count": 16,
   "id": "0e4d6f48",
   "metadata": {},
   "outputs": [],
   "source": [
    "#open driver\n",
    "def openDriver():\n",
    "    op=webdriver.ChromeOptions()\n",
    "    op.add_argument(\"headless\")\n",
    "    s=Service('chromedriver')\n",
    "    driver=webdriver.Chrome(service=s,options=op)\n",
    "    return driver"
   ]
  },
  {
   "cell_type": "code",
   "execution_count": 17,
   "id": "131e2d28",
   "metadata": {},
   "outputs": [],
   "source": [
    "#function for homepage img scrapping\n",
    "def pics_scrap(driver,category):\n",
    "    time.sleep(3)\n",
    "    images=driver.find_element(by=By.CLASS_NAME,value=\"_88xxct\")\n",
    "    time.sleep(2)\n",
    "    img_names=[]\n",
    "    imageUrls=[]\n",
    "    title=attachTitle(driver)\n",
    "    counter=0\n",
    "    for img in images.find_elements(by=By.TAG_NAME,value='img')[:5]:\n",
    "        img_urls = img.get_attribute('src')\n",
    "        print(img_urls)\n",
    "        imageUrls.append(img_urls)\n",
    "        #     removing point (.) as this point causing a problem in saving the picture\n",
    "        removingPoint=(\"/\".join(img_urls.split(\"/\")[-1:])).split('.')[:-1]\n",
    "        img_urls_firstname = \" \".join(removingPoint[0].split(\" \"))\n",
    "        img_urls_rename= f\"{title}/\"+img_urls_firstname\n",
    "        #             print(img_urls_rename)\n",
    "        img_name = \"@\".join(img_urls_rename.split('/'))\n",
    "        img_names.append(img_name)\n",
    "#         if img_urls.mode != 'RGB':\n",
    "#             img_urls = img_urls.convert('RGB')\n",
    "        r = requests.get(img_urls)\n",
    "        i = Image.open(BytesIO(r.content))\n",
    "        if i.mode != 'RGB':\n",
    "            i = i.convert('RGB')\n",
    "        i.save(f\"img/{category}/{img_name}.jpg\")\n",
    "        counter+=1\n",
    "        print(img_name)\n",
    "#     print(img_names)\n",
    "    return img_names"
   ]
  },
  {
   "cell_type": "code",
   "execution_count": 18,
   "id": "0d9e94d1",
   "metadata": {},
   "outputs": [],
   "source": [
    "#getting the titles for attaching with the picture name\n",
    "def attachTitle(driver):\n",
    "    try:\n",
    "        Title=driver.find_element(by=By.XPATH,value=\"//*/div/div[1]/div[6]/div/div/div/div[2]/div/section/div[1]/div[2]/h2\").text\n",
    "        Title=\"_\".join(Title.split(\" \"))\n",
    "        return Title\n",
    "    except:\n",
    "        print(\"nothing found\")\n",
    "        return None"
   ]
  },
  {
   "cell_type": "code",
   "execution_count": 19,
   "id": "0e467293",
   "metadata": {},
   "outputs": [],
   "source": [
    "#function for single product scrapping\n",
    "def product_scrap(driver,url,category):\n",
    "    driver.get(url)\n",
    "    time.sleep(5)\n",
    "    #single page data scrapping\n",
    "    title=titleHeading(driver)\n",
    "    #place rating\n",
    "    rating=placeRating(driver)\n",
    "    #place total review\n",
    "    total_review=placeTotalReviw(driver)\n",
    "    #place rent\n",
    "    rent=placeRent(driver)\n",
    "#     place location\n",
    "    location=placeLocation(driver)\n",
    "    #place descriptio\n",
    "    description=placeDescription(driver)\n",
    "    #place extra feature\n",
    "    time.sleep(2)\n",
    "    extra_offers=placeOffers(driver)\n",
    "    #all reviews of the place\n",
    "    time.sleep(2)\n",
    "    reviews=placeReviews(driver)\n",
    "    time.sleep(2)\n",
    "    #all images\n",
    "    imageName=pics_scrap(driver,category)\n",
    "    time.sleep(2)\n",
    "    return title,rating,total_review,rent,location,description,extra_offers,reviews,imageName"
   ]
  },
  {
   "cell_type": "code",
   "execution_count": 23,
   "id": "806e39ec",
   "metadata": {},
   "outputs": [
    {
     "name": "stdout",
     "output_type": "stream",
     "text": [
      "1 https://www.airbnb.com/rooms/25986044?adults=1&category_tag=Tag%3A7769&children=0&infants=0&search_mode=flex_destinations_search&check_in=2022-10-15&check_out=2022-10-20&previous_page_section_name=1000&federated_search_id=f9352f02-2f3f-4af4-9006-bdf760f02da9\n",
      "\n",
      "title [VR] 2BR High Skyline Ocean View @ Pattaya\n",
      "rating 4.67 ·\n",
      "total_reviews 70 reviews\n",
      "Place_rent $110\n",
      "Location Muang Pattaya, Chang Wat Chon Buri, Thailand\n",
      "destination not found , may be link is broken\n",
      "no show more button\n",
      "destination not found , may be link is broken\n",
      "reviews      \n",
      "https://a0.muscache.com/im/pictures/1f23e84a-f226-4b5d-9405-ffe291206b13.jpg?im_w=720\n"
     ]
    },
    {
     "ename": "NameError",
     "evalue": "name 'BytesIO' is not defined",
     "output_type": "error",
     "traceback": [
      "\u001b[1;31m---------------------------------------------------------------------------\u001b[0m",
      "\u001b[1;31mNameError\u001b[0m                                 Traceback (most recent call last)",
      "\u001b[1;32mC:\\Users\\FURQUA~1\\AppData\\Local\\Temp/ipykernel_14064/1801894324.py\u001b[0m in \u001b[0;36m<module>\u001b[1;34m\u001b[0m\n\u001b[0;32m      4\u001b[0m     \u001b[0msingle_url\u001b[0m\u001b[1;33m=\u001b[0m\u001b[0mf\u001b[0m\u001b[1;33m.\u001b[0m\u001b[0mreadlines\u001b[0m\u001b[1;33m(\u001b[0m\u001b[1;33m)\u001b[0m\u001b[1;33m\u001b[0m\u001b[1;33m\u001b[0m\u001b[0m\n\u001b[0;32m      5\u001b[0m     \u001b[0mtitles\u001b[0m\u001b[1;33m,\u001b[0m\u001b[0mratings\u001b[0m\u001b[1;33m,\u001b[0m\u001b[0mtotal_reviews\u001b[0m\u001b[1;33m,\u001b[0m\u001b[0mrents\u001b[0m\u001b[1;33m,\u001b[0m\u001b[0mlocations\u001b[0m\u001b[1;33m,\u001b[0m\u001b[0mdescriptions\u001b[0m\u001b[1;33m,\u001b[0m\u001b[0mExtra_offers\u001b[0m\u001b[1;33m,\u001b[0m\u001b[0mReviews\u001b[0m\u001b[1;33m,\u001b[0m\u001b[0mimageNames\u001b[0m\u001b[1;33m=\u001b[0m\u001b[1;33m[\u001b[0m\u001b[1;33m]\u001b[0m\u001b[1;33m,\u001b[0m\u001b[1;33m[\u001b[0m\u001b[1;33m]\u001b[0m\u001b[1;33m,\u001b[0m\u001b[1;33m[\u001b[0m\u001b[1;33m]\u001b[0m\u001b[1;33m,\u001b[0m\u001b[1;33m[\u001b[0m\u001b[1;33m]\u001b[0m\u001b[1;33m,\u001b[0m\u001b[1;33m[\u001b[0m\u001b[1;33m]\u001b[0m\u001b[1;33m,\u001b[0m\u001b[1;33m[\u001b[0m\u001b[1;33m]\u001b[0m\u001b[1;33m,\u001b[0m\u001b[1;33m[\u001b[0m\u001b[1;33m]\u001b[0m\u001b[1;33m,\u001b[0m\u001b[1;33m[\u001b[0m\u001b[1;33m]\u001b[0m\u001b[1;33m,\u001b[0m\u001b[1;33m[\u001b[0m\u001b[1;33m]\u001b[0m\u001b[1;33m\u001b[0m\u001b[1;33m\u001b[0m\u001b[0m\n\u001b[1;32m----> 6\u001b[1;33m     \u001b[0mairbnb_scrap_partwise\u001b[0m\u001b[1;33m(\u001b[0m\u001b[1;36m0\u001b[0m\u001b[1;33m,\u001b[0m\u001b[1;36m98\u001b[0m\u001b[1;33m,\u001b[0m\u001b[0mtitles\u001b[0m\u001b[1;33m,\u001b[0m\u001b[0mratings\u001b[0m\u001b[1;33m,\u001b[0m\u001b[0mtotal_reviews\u001b[0m\u001b[1;33m,\u001b[0m\u001b[0mrents\u001b[0m\u001b[1;33m,\u001b[0m\u001b[0mlocations\u001b[0m\u001b[1;33m,\u001b[0m\u001b[0mdescriptions\u001b[0m\u001b[1;33m,\u001b[0m\u001b[0mExtra_offers\u001b[0m\u001b[1;33m,\u001b[0m\u001b[0mReviews\u001b[0m\u001b[1;33m,\u001b[0m\u001b[0mimageNames\u001b[0m\u001b[1;33m)\u001b[0m\u001b[1;33m\u001b[0m\u001b[1;33m\u001b[0m\u001b[0m\n\u001b[0m\u001b[0;32m      7\u001b[0m     \u001b[0mtime\u001b[0m\u001b[1;33m.\u001b[0m\u001b[0msleep\u001b[0m\u001b[1;33m(\u001b[0m\u001b[1;36m30\u001b[0m\u001b[1;33m)\u001b[0m\u001b[1;33m\u001b[0m\u001b[1;33m\u001b[0m\u001b[0m\n\u001b[0;32m      8\u001b[0m     \u001b[0mairbnb_scrap_partwise\u001b[0m\u001b[1;33m(\u001b[0m\u001b[1;36m99\u001b[0m\u001b[1;33m,\u001b[0m\u001b[1;36m180\u001b[0m\u001b[1;33m,\u001b[0m\u001b[0mtitles\u001b[0m\u001b[1;33m,\u001b[0m\u001b[0mratings\u001b[0m\u001b[1;33m,\u001b[0m\u001b[0mtotal_reviews\u001b[0m\u001b[1;33m,\u001b[0m\u001b[0mrents\u001b[0m\u001b[1;33m,\u001b[0m\u001b[0mlocations\u001b[0m\u001b[1;33m,\u001b[0m\u001b[0mdescriptions\u001b[0m\u001b[1;33m,\u001b[0m\u001b[0mExtra_offers\u001b[0m\u001b[1;33m,\u001b[0m\u001b[0mReviews\u001b[0m\u001b[1;33m,\u001b[0m\u001b[0mimageNames\u001b[0m\u001b[1;33m)\u001b[0m\u001b[1;33m\u001b[0m\u001b[1;33m\u001b[0m\u001b[0m\n",
      "\u001b[1;32mC:\\Users\\FURQUA~1\\AppData\\Local\\Temp/ipykernel_14064/2147324274.py\u001b[0m in \u001b[0;36mairbnb_scrap_partwise\u001b[1;34m(num1, num2, titles, ratings, total_reviews, rents, locations, descriptions, Extra_offers, Reviews, imageNames)\u001b[0m\n\u001b[0;32m      5\u001b[0m         \u001b[0mprint\u001b[0m\u001b[1;33m(\u001b[0m\u001b[0mcnt\u001b[0m\u001b[1;33m,\u001b[0m\u001b[0ms\u001b[0m\u001b[1;33m)\u001b[0m\u001b[1;33m\u001b[0m\u001b[1;33m\u001b[0m\u001b[0m\n\u001b[0;32m      6\u001b[0m         \u001b[0mdriver\u001b[0m\u001b[1;33m=\u001b[0m\u001b[0mopenDriver\u001b[0m\u001b[1;33m(\u001b[0m\u001b[1;33m)\u001b[0m\u001b[1;33m\u001b[0m\u001b[1;33m\u001b[0m\u001b[0m\n\u001b[1;32m----> 7\u001b[1;33m         \u001b[0mtitle\u001b[0m\u001b[1;33m,\u001b[0m\u001b[0mrating\u001b[0m\u001b[1;33m,\u001b[0m\u001b[0mtotal_review\u001b[0m\u001b[1;33m,\u001b[0m\u001b[0mrent\u001b[0m\u001b[1;33m,\u001b[0m\u001b[0mlocation\u001b[0m\u001b[1;33m,\u001b[0m\u001b[0mdescription\u001b[0m\u001b[1;33m,\u001b[0m\u001b[0mextra_offers\u001b[0m\u001b[1;33m,\u001b[0m\u001b[0mreviews\u001b[0m\u001b[1;33m,\u001b[0m\u001b[0mimageName\u001b[0m\u001b[1;33m=\u001b[0m\u001b[0mproduct_scrap\u001b[0m\u001b[1;33m(\u001b[0m\u001b[0mdriver\u001b[0m\u001b[1;33m,\u001b[0m\u001b[0ms\u001b[0m\u001b[1;33m,\u001b[0m\u001b[0mcategory\u001b[0m\u001b[1;33m)\u001b[0m\u001b[1;33m\u001b[0m\u001b[1;33m\u001b[0m\u001b[0m\n\u001b[0m\u001b[0;32m      8\u001b[0m         \u001b[1;32mif\u001b[0m \u001b[0mtitle\u001b[0m\u001b[1;33m:\u001b[0m\u001b[1;33m\u001b[0m\u001b[1;33m\u001b[0m\u001b[0m\n\u001b[0;32m      9\u001b[0m             \u001b[0mtitles\u001b[0m\u001b[1;33m.\u001b[0m\u001b[0mappend\u001b[0m\u001b[1;33m(\u001b[0m\u001b[0mtitle\u001b[0m\u001b[1;33m)\u001b[0m\u001b[1;33m\u001b[0m\u001b[1;33m\u001b[0m\u001b[0m\n",
      "\u001b[1;32mC:\\Users\\FURQUA~1\\AppData\\Local\\Temp/ipykernel_14064/1152353250.py\u001b[0m in \u001b[0;36mproduct_scrap\u001b[1;34m(driver, url, category)\u001b[0m\n\u001b[0;32m     23\u001b[0m     \u001b[0mtime\u001b[0m\u001b[1;33m.\u001b[0m\u001b[0msleep\u001b[0m\u001b[1;33m(\u001b[0m\u001b[1;36m2\u001b[0m\u001b[1;33m)\u001b[0m\u001b[1;33m\u001b[0m\u001b[1;33m\u001b[0m\u001b[0m\n\u001b[0;32m     24\u001b[0m     \u001b[1;31m#all images\u001b[0m\u001b[1;33m\u001b[0m\u001b[1;33m\u001b[0m\u001b[0m\n\u001b[1;32m---> 25\u001b[1;33m     \u001b[0mimageName\u001b[0m\u001b[1;33m=\u001b[0m\u001b[0mpics_scrap\u001b[0m\u001b[1;33m(\u001b[0m\u001b[0mdriver\u001b[0m\u001b[1;33m,\u001b[0m\u001b[0mcategory\u001b[0m\u001b[1;33m)\u001b[0m\u001b[1;33m\u001b[0m\u001b[1;33m\u001b[0m\u001b[0m\n\u001b[0m\u001b[0;32m     26\u001b[0m     \u001b[0mtime\u001b[0m\u001b[1;33m.\u001b[0m\u001b[0msleep\u001b[0m\u001b[1;33m(\u001b[0m\u001b[1;36m2\u001b[0m\u001b[1;33m)\u001b[0m\u001b[1;33m\u001b[0m\u001b[1;33m\u001b[0m\u001b[0m\n\u001b[0;32m     27\u001b[0m     \u001b[1;32mreturn\u001b[0m \u001b[0mtitle\u001b[0m\u001b[1;33m,\u001b[0m\u001b[0mrating\u001b[0m\u001b[1;33m,\u001b[0m\u001b[0mtotal_review\u001b[0m\u001b[1;33m,\u001b[0m\u001b[0mrent\u001b[0m\u001b[1;33m,\u001b[0m\u001b[0mlocation\u001b[0m\u001b[1;33m,\u001b[0m\u001b[0mdescription\u001b[0m\u001b[1;33m,\u001b[0m\u001b[0mextra_offers\u001b[0m\u001b[1;33m,\u001b[0m\u001b[0mreviews\u001b[0m\u001b[1;33m,\u001b[0m\u001b[0mimageName\u001b[0m\u001b[1;33m\u001b[0m\u001b[1;33m\u001b[0m\u001b[0m\n",
      "\u001b[1;32mC:\\Users\\FURQUA~1\\AppData\\Local\\Temp/ipykernel_14064/2304612634.py\u001b[0m in \u001b[0;36mpics_scrap\u001b[1;34m(driver, category)\u001b[0m\n\u001b[0;32m     22\u001b[0m \u001b[1;31m#             img_urls = img_urls.convert('RGB')\u001b[0m\u001b[1;33m\u001b[0m\u001b[1;33m\u001b[0m\u001b[0m\n\u001b[0;32m     23\u001b[0m         \u001b[0mr\u001b[0m \u001b[1;33m=\u001b[0m \u001b[0mrequests\u001b[0m\u001b[1;33m.\u001b[0m\u001b[0mget\u001b[0m\u001b[1;33m(\u001b[0m\u001b[0mimg_urls\u001b[0m\u001b[1;33m)\u001b[0m\u001b[1;33m\u001b[0m\u001b[1;33m\u001b[0m\u001b[0m\n\u001b[1;32m---> 24\u001b[1;33m         \u001b[0mi\u001b[0m \u001b[1;33m=\u001b[0m \u001b[0mImage\u001b[0m\u001b[1;33m.\u001b[0m\u001b[0mopen\u001b[0m\u001b[1;33m(\u001b[0m\u001b[0mBytesIO\u001b[0m\u001b[1;33m(\u001b[0m\u001b[0mr\u001b[0m\u001b[1;33m.\u001b[0m\u001b[0mcontent\u001b[0m\u001b[1;33m)\u001b[0m\u001b[1;33m)\u001b[0m\u001b[1;33m\u001b[0m\u001b[1;33m\u001b[0m\u001b[0m\n\u001b[0m\u001b[0;32m     25\u001b[0m         \u001b[1;32mif\u001b[0m \u001b[0mi\u001b[0m\u001b[1;33m.\u001b[0m\u001b[0mmode\u001b[0m \u001b[1;33m!=\u001b[0m \u001b[1;34m'RGB'\u001b[0m\u001b[1;33m:\u001b[0m\u001b[1;33m\u001b[0m\u001b[1;33m\u001b[0m\u001b[0m\n\u001b[0;32m     26\u001b[0m             \u001b[0mi\u001b[0m \u001b[1;33m=\u001b[0m \u001b[0mi\u001b[0m\u001b[1;33m.\u001b[0m\u001b[0mconvert\u001b[0m\u001b[1;33m(\u001b[0m\u001b[1;34m'RGB'\u001b[0m\u001b[1;33m)\u001b[0m\u001b[1;33m\u001b[0m\u001b[1;33m\u001b[0m\u001b[0m\n",
      "\u001b[1;31mNameError\u001b[0m: name 'BytesIO' is not defined"
     ]
    }
   ],
   "source": [
    "#all link scrapping\n",
    "category=\"destination_images\"\n",
    "with open(\"destinations.txt\",\"r\") as f:\n",
    "    single_url=f.readlines()\n",
    "    titles,ratings,total_reviews,rents,locations,descriptions,Extra_offers,Reviews,imageNames=[],[],[],[],[],[],[],[],[]\n",
    "    airbnb_scrap_partwise(0,98,titles,ratings,total_reviews,rents,locations,descriptions,Extra_offers,Reviews,imageNames)\n",
    "    time.sleep(30)\n",
    "    airbnb_scrap_partwise(99,180,titles,ratings,total_reviews,rents,locations,descriptions,Extra_offers,Reviews,imageNames)\n",
    "    time.sleep(30)\n",
    "    airbnb_scrap_partwise(181,224,titles,ratings,total_reviews,rents,locations,descriptions,Extra_offers,Reviews,imageNames)"
   ]
  },
  {
   "cell_type": "code",
   "execution_count": 20,
   "id": "9903b3fb",
   "metadata": {},
   "outputs": [],
   "source": [
    "#function for scrapping a limited number of links\n",
    "def airbnb_scrap_partwise(num1,num2,titles,ratings,total_reviews,rents,locations,descriptions,Extra_offers,Reviews,imageNames):\n",
    "    cnt=1\n",
    "    for s in single_url[num1:num2]:\n",
    "        print(cnt,s)\n",
    "        driver=openDriver()\n",
    "        title,rating,total_review,rent,location,description,extra_offers,reviews,imageName=product_scrap(driver,s,category)\n",
    "        if title:\n",
    "            titles.append(title)\n",
    "            ratings.append(rating)\n",
    "            total_reviews.append(total_review)\n",
    "            rents.append(rent)\n",
    "            locations.append(location)\n",
    "            descriptions.append(description)\n",
    "            Extra_offers.append(extra_offers)\n",
    "            Reviews.append(reviews)\n",
    "            imageNames.append(imageName)\n",
    "            \n",
    "            cnt+=1\n",
    "            print(\"=============================================\")\n",
    "            clear_output(wait=True)\n",
    "    "
   ]
  },
  {
   "cell_type": "code",
   "execution_count": null,
   "id": "39d31c50",
   "metadata": {},
   "outputs": [],
   "source": [
    "#saving the scrapping infos\n",
    "with open(\"Airbnb_Scrab.txt\",\"w\",encoding=\"utf-8\") as f:\n",
    "    f.write(\"No ,Title ,Ratings ,Total_reviews ,Rents ,Location ,Description ,Extra_offers ,Reviews ,Images\")\n",
    "    f.write(\"\\n\\n\")\n",
    "    for i,t,r,tr,ren,l,d,e,rev,im in zip(range(1,len(titles)+1),titles,ratings,total_reviews,rents,locations,descriptions,Extra_offers,Reviews,imageNames):\n",
    "        f.write(f\"{i} ,{t} ,{r} ,{tr} ,{ren} ,{l} ,{d} ,{e} ,{rev} ,{im} \")\n",
    "        f.write(\"\\n\\n\")"
   ]
  }
 ],
 "metadata": {
  "kernelspec": {
   "display_name": "Python 3 (ipykernel)",
   "language": "python",
   "name": "python3"
  },
  "language_info": {
   "codemirror_mode": {
    "name": "ipython",
    "version": 3
   },
   "file_extension": ".py",
   "mimetype": "text/x-python",
   "name": "python",
   "nbconvert_exporter": "python",
   "pygments_lexer": "ipython3",
   "version": "3.9.7"
  }
 },
 "nbformat": 4,
 "nbformat_minor": 5
}
