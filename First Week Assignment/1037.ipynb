{
 "cells": [
  {
   "cell_type": "code",
   "execution_count": 1,
   "id": "fdc30e8d",
   "metadata": {},
   "outputs": [
    {
     "name": "stdout",
     "output_type": "stream",
     "text": [
      "25.01\n",
      "Intervalo (25,50]\n"
     ]
    }
   ],
   "source": [
    "#Interval\n",
    "x = float(input(\"\"))\n",
    "if x>=0 and x<=25.0000:\n",
    "    print(\"Intervalo [0,25]\")\n",
    "elif x>25.0000 and x<=50.0000:\n",
    "    print(\"Intervalo (25,50]\")\n",
    "elif x>50.0000 and x<=75.0000:\n",
    "    print(\"Intervalo (50,75]\")\n",
    "elif x>75.0000 and x<=100.0000:\n",
    "    print(\"Intervalo (75,100]\")\n",
    "else:\n",
    "    print(\"Fora de intervalo\")"
   ]
  }
 ],
 "metadata": {
  "kernelspec": {
   "display_name": "Python 3 (ipykernel)",
   "language": "python",
   "name": "python3"
  },
  "language_info": {
   "codemirror_mode": {
    "name": "ipython",
    "version": 3
   },
   "file_extension": ".py",
   "mimetype": "text/x-python",
   "name": "python",
   "nbconvert_exporter": "python",
   "pygments_lexer": "ipython3",
   "version": "3.9.7"
  }
 },
 "nbformat": 4,
 "nbformat_minor": 5
}
