{
 "cells": [
  {
   "cell_type": "code",
   "execution_count": 1,
   "id": "f35db918",
   "metadata": {},
   "outputs": [
    {
     "name": "stdout",
     "output_type": "stream",
     "text": [
      "3 2\n",
      "Total: R$ 10.00\n"
     ]
    }
   ],
   "source": [
    "#Snack\n",
    "x,y = map(int,input().split())\n",
    "if x==1:\n",
    "    total = 4.00*y\n",
    "    print(\"Total: R$ \",end=\"\")\n",
    "    print(format(total,\".2f\"))\n",
    "elif x==2:\n",
    "    total = 4.50*y\n",
    "    print(\"Total: R$ \",end=\"\")\n",
    "    print(format(total,\".2f\"))\n",
    "elif x==3:\n",
    "    total = 5.00*y\n",
    "    print(\"Total: R$ \",end=\"\")\n",
    "    print(format(total,\".2f\"))\n",
    "elif x==4:\n",
    "    total = 2.00*y\n",
    "    print(\"Total: R$ \",end=\"\")\n",
    "    print(format(total,\".2f\"))\n",
    "else:\n",
    "    total = 1.50*y\n",
    "    print(\"Total: R$ \",end=\"\")\n",
    "    print(format(total,\".2f\"))"
   ]
  }
 ],
 "metadata": {
  "kernelspec": {
   "display_name": "Python 3 (ipykernel)",
   "language": "python",
   "name": "python3"
  },
  "language_info": {
   "codemirror_mode": {
    "name": "ipython",
    "version": 3
   },
   "file_extension": ".py",
   "mimetype": "text/x-python",
   "name": "python",
   "nbconvert_exporter": "python",
   "pygments_lexer": "ipython3",
   "version": "3.9.7"
  }
 },
 "nbformat": 4,
 "nbformat_minor": 5
}
