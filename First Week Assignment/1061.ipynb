{
 "cells": [
  {
   "cell_type": "code",
   "execution_count": 1,
   "id": "195d5ea6",
   "metadata": {},
   "outputs": [
    {
     "name": "stdout",
     "output_type": "stream",
     "text": [
      "Dia 5\n",
      "08 : 12 : 23\n",
      "Dia 9\n",
      "06 : 13 : 23\n",
      "3 dia(s)\n",
      "22 hora(s)\n",
      "1 minuto(s)\n",
      "0 segundo(s)\n"
     ]
    }
   ],
   "source": [
    "day,date1=input().split()\n",
    "date1 = int(date1)\n",
    "hour1,minute1,second1=map(int,input().split(\":\"))\n",
    "\n",
    "day,date2=input().split()\n",
    "date2 = int(date2)\n",
    "hour2,minute2,second2=map(int,input().split(\":\"))\n",
    "\n",
    "second = second2 - second1\n",
    "minute = minute2 - minute1\n",
    "hour = hour2 - hour1\n",
    "date = date2 - date1\n",
    "\n",
    "if(second<0):\n",
    "    second+=60\n",
    "    minute-=1\n",
    "if(minute<0):\n",
    "    minute+=60\n",
    "    hour-=1\n",
    "if(hour<0):\n",
    "    hour+=24\n",
    "    date-=1\n",
    "print(f\"{date} dia(s)\")\n",
    "print(f\"{hour} hora(s)\")\n",
    "print(f\"{minute} minuto(s)\")\n",
    "print(f\"{second} segundo(s)\")"
   ]
  }
 ],
 "metadata": {
  "kernelspec": {
   "display_name": "Python 3 (ipykernel)",
   "language": "python",
   "name": "python3"
  },
  "language_info": {
   "codemirror_mode": {
    "name": "ipython",
    "version": 3
   },
   "file_extension": ".py",
   "mimetype": "text/x-python",
   "name": "python",
   "nbconvert_exporter": "python",
   "pygments_lexer": "ipython3",
   "version": "3.9.7"
  }
 },
 "nbformat": 4,
 "nbformat_minor": 5
}
