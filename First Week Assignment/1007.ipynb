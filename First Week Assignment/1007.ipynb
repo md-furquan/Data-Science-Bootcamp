{
 "cells": [
  {
   "cell_type": "code",
   "execution_count": 1,
   "id": "896aaca3",
   "metadata": {},
   "outputs": [
    {
     "name": "stdout",
     "output_type": "stream",
     "text": [
      "5\n",
      "6\n",
      "7\n",
      "8\n",
      "DIFERENCA = -26\n"
     ]
    }
   ],
   "source": [
    "A = int(input(\"\"))\n",
    "B = int(input(\"\"))\n",
    "C = int(input(\"\"))\n",
    "D = int(input(\"\"))\n",
    "diff= (A * B - C * D)\n",
    "print(\"DIFERENCA = \",end=\"\") #DIFERENCA = -26\n",
    "print(diff)"
   ]
  }
 ],
 "metadata": {
  "kernelspec": {
   "display_name": "Python 3 (ipykernel)",
   "language": "python",
   "name": "python3"
  },
  "language_info": {
   "codemirror_mode": {
    "name": "ipython",
    "version": 3
   },
   "file_extension": ".py",
   "mimetype": "text/x-python",
   "name": "python",
   "nbconvert_exporter": "python",
   "pygments_lexer": "ipython3",
   "version": "3.9.7"
  }
 },
 "nbformat": 4,
 "nbformat_minor": 5
}
