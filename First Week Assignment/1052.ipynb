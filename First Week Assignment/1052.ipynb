{
 "cells": [
  {
   "cell_type": "code",
   "execution_count": 1,
   "id": "ee5f5089",
   "metadata": {},
   "outputs": [
    {
     "name": "stdout",
     "output_type": "stream",
     "text": [
      "4\n",
      "April\n"
     ]
    }
   ],
   "source": [
    "number=int(input())\n",
    "if(number==1):\n",
    "    print(\"January\")\n",
    "elif(number==2):\n",
    "    print(\"February\")\n",
    "elif(number==3):\n",
    "    print(\"March\")\n",
    "elif(number==4):\n",
    "    print(\"April\")\n",
    "elif(number==5):\n",
    "    print(\"May\")\n",
    "elif(number==6):\n",
    "    print(\"June\")\n",
    "elif(number==7):\n",
    "    print(\"July\")\n",
    "elif(number==8):\n",
    "    print(\"August\")\n",
    "elif(number==9):\n",
    "    print(\"September\")\n",
    "elif(number==10):\n",
    "    print(\"October\")\n",
    "elif(number==11):\n",
    "    print(\"November\")\n",
    "elif(number==12):\n",
    "    print(\"December\")"
   ]
  }
 ],
 "metadata": {
  "kernelspec": {
   "display_name": "Python 3 (ipykernel)",
   "language": "python",
   "name": "python3"
  },
  "language_info": {
   "codemirror_mode": {
    "name": "ipython",
    "version": 3
   },
   "file_extension": ".py",
   "mimetype": "text/x-python",
   "name": "python",
   "nbconvert_exporter": "python",
   "pygments_lexer": "ipython3",
   "version": "3.9.7"
  }
 },
 "nbformat": 4,
 "nbformat_minor": 5
}
