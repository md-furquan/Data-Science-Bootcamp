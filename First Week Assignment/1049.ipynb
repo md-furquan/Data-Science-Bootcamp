{
 "cells": [
  {
   "cell_type": "code",
   "execution_count": 1,
   "id": "5105a41d",
   "metadata": {},
   "outputs": [
    {
     "name": "stdout",
     "output_type": "stream",
     "text": [
      "vertebrado\n",
      "mamifero\n",
      "onivoro\n",
      "homem\n"
     ]
    }
   ],
   "source": [
    "feature_1 = input()\n",
    "feature_2 = input()\n",
    "feature_3 = input()\n",
    "\n",
    "if feature_1 == 'vertebrado' and feature_2 == 'ave' and feature_3 == 'carnivoro':\n",
    "    print(\"aguia\")\n",
    "elif feature_1 == 'vertebrado' and feature_2 == 'ave' and feature_3 == 'onivoro':\n",
    "    print(\"pomba\")\n",
    "elif feature_1 == 'vertebrado' and feature_2 == 'mamifero' and feature_3 == 'onivoro':\n",
    "    print(\"homem\")\n",
    "elif feature_1 == 'vertebrado' and feature_2 == 'mamifero' and feature_3 == 'herbivoro':\n",
    "    print(\"vaca\")\n",
    "elif feature_1 == 'invertebrado' and feature_2 == 'inseto' and feature_3 == 'hematofago':\n",
    "    print(\"pulga\")\n",
    "elif feature_1 == 'invertebrado' and feature_2 == 'inseto' and feature_3 == 'herbivoro':\n",
    "    print(\"lagarta\")\n",
    "elif feature_1 == 'invertebrado' and feature_2 == 'anelideo' and feature_3 == 'hematofago':\n",
    "    print(\"sanguessuga\")\n",
    "elif feature_1 == 'invertebrado' and feature_2 == 'anelideo' and feature_3 == 'onivoro':\n",
    "    print(\"minhoca\")"
   ]
  }
 ],
 "metadata": {
  "kernelspec": {
   "display_name": "Python 3 (ipykernel)",
   "language": "python",
   "name": "python3"
  },
  "language_info": {
   "codemirror_mode": {
    "name": "ipython",
    "version": 3
   },
   "file_extension": ".py",
   "mimetype": "text/x-python",
   "name": "python",
   "nbconvert_exporter": "python",
   "pygments_lexer": "ipython3",
   "version": "3.9.7"
  }
 },
 "nbformat": 4,
 "nbformat_minor": 5
}
