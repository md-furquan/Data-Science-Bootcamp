{
 "cells": [
  {
   "cell_type": "code",
   "execution_count": 1,
   "id": "6489e2ae",
   "metadata": {},
   "outputs": [
    {
     "name": "stdout",
     "output_type": "stream",
     "text": [
      "5 6 7 8\n",
      "Valores nao aceitos\n"
     ]
    }
   ],
   "source": [
    "#Selection Test 1\n",
    "a,b,c,d = map(int,input().split())\n",
    "if b>c and d>a and (c+d)>(a+b) and c>0 and d>0 and a%2==0:\n",
    "    print(\"Valores aceitos\")\n",
    "else:\n",
    "    print(\"Valores nao aceitos\")"
   ]
  }
 ],
 "metadata": {
  "kernelspec": {
   "display_name": "Python 3 (ipykernel)",
   "language": "python",
   "name": "python3"
  },
  "language_info": {
   "codemirror_mode": {
    "name": "ipython",
    "version": 3
   },
   "file_extension": ".py",
   "mimetype": "text/x-python",
   "name": "python",
   "nbconvert_exporter": "python",
   "pygments_lexer": "ipython3",
   "version": "3.9.7"
  }
 },
 "nbformat": 4,
 "nbformat_minor": 5
}
