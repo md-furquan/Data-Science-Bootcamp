{
 "cells": [
  {
   "cell_type": "code",
   "execution_count": 1,
   "id": "8e584c68",
   "metadata": {},
   "outputs": [
    {
     "name": "stdout",
     "output_type": "stream",
     "text": [
      "25\n",
      "100\n",
      "5.50\n",
      "NUMBER = 25\n",
      "SALARY = U$ 550.00\n"
     ]
    }
   ],
   "source": [
    "#Salary\n",
    "employ_number = int(input(\"\"))\n",
    "work_hour = int(input(\"\"))\n",
    "amount_hour = float(input(\"\"))\n",
    "monthly_sal = float(work_hour*amount_hour)\n",
    "print(\"NUMBER = \",end=\"\") #NUMBER = 25\n",
    "print(employ_number)\n",
    "print(\"SALARY = U$ \",end=\"\") #SALARY = U$ 550.00\n",
    "print(format(monthly_sal,\".2f\"))"
   ]
  }
 ],
 "metadata": {
  "kernelspec": {
   "display_name": "Python 3 (ipykernel)",
   "language": "python",
   "name": "python3"
  },
  "language_info": {
   "codemirror_mode": {
    "name": "ipython",
    "version": 3
   },
   "file_extension": ".py",
   "mimetype": "text/x-python",
   "name": "python",
   "nbconvert_exporter": "python",
   "pygments_lexer": "ipython3",
   "version": "3.9.7"
  }
 },
 "nbformat": 4,
 "nbformat_minor": 5
}
