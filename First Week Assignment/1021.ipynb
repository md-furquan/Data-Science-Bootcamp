{
 "cells": [
  {
   "cell_type": "code",
   "execution_count": 1,
   "id": "35400648",
   "metadata": {},
   "outputs": [
    {
     "name": "stdout",
     "output_type": "stream",
     "text": [
      "576.73\n",
      "NOTAS:\n",
      "5 nota(s) de R$ 100.00\n",
      "1 nota(s) de R$ 50.00\n",
      "1 nota(s) de R$ 20.00\n",
      "0 nota(s) de R$ 10.00\n",
      "1 nota(s) de R$ 5.00\n",
      "0 nota(s) de R$ 2.00\n",
      "MOEDAS:\n",
      "1 moeda(s) de R$ 1.00\n",
      "1 moeda(s) de R$ 0.50\n",
      "0 moeda(s) de R$ 0.25\n",
      "2 moeda(s) de R$ 0.10\n",
      "0 moeda(s) de R$ 0.05\n",
      "3 moeda(s) de R$ 0.01\n"
     ]
    }
   ],
   "source": [
    "Value=float(input())\n",
    "Temp_Value=Value\n",
    "a=Temp_Value/100\n",
    "b=Temp_Value%100\n",
    "c=b/50\n",
    "d=b%50\n",
    "e=d/20\n",
    "f=d%20\n",
    "g=f/10\n",
    "h=f%10\n",
    "i=h/5\n",
    "j=h%5\n",
    "k=j/2\n",
    "l=j%2\n",
    "\n",
    "Updated_Value=Value*100\n",
    "Updated_Temp_Value=(int(Updated_Value))\n",
    "m=Updated_Temp_Value%100\n",
    "n=m/50\n",
    "o=m%50\n",
    "p=o/25\n",
    "q=o%25\n",
    "r=q/10\n",
    "s=q%10\n",
    "t=s/5\n",
    "u=s%5\n",
    "print(\"NOTAS:\")\n",
    "print(f\"{int(a)} nota(s) de R$ 100.00\")\n",
    "print(f\"{int(c)} nota(s) de R$ 50.00\")\n",
    "print(f\"{int(e)} nota(s) de R$ 20.00\")\n",
    "print(f\"{int(g)} nota(s) de R$ 10.00\")\n",
    "print(f\"{int(i)} nota(s) de R$ 5.00\")\n",
    "print(f\"{int(k)} nota(s) de R$ 2.00\")\n",
    "print(f\"MOEDAS:\")\n",
    "print(f\"{int(l)} moeda(s) de R$ 1.00\")\n",
    "print(f\"{int(n)} moeda(s) de R$ 0.50\")\n",
    "print(f\"{int(p)} moeda(s) de R$ 0.25\")\n",
    "print(f\"{int(r)} moeda(s) de R$ 0.10\")\n",
    "print(f\"{int(t)} moeda(s) de R$ 0.05\")\n",
    "print(f\"{int(u)} moeda(s) de R$ 0.01\")"
   ]
  }
 ],
 "metadata": {
  "kernelspec": {
   "display_name": "Python 3 (ipykernel)",
   "language": "python",
   "name": "python3"
  },
  "language_info": {
   "codemirror_mode": {
    "name": "ipython",
    "version": 3
   },
   "file_extension": ".py",
   "mimetype": "text/x-python",
   "name": "python",
   "nbconvert_exporter": "python",
   "pygments_lexer": "ipython3",
   "version": "3.9.7"
  }
 },
 "nbformat": 4,
 "nbformat_minor": 5
}
