{
 "cells": [
  {
   "cell_type": "code",
   "execution_count": 1,
   "id": "f0282cd3",
   "metadata": {},
   "outputs": [
    {
     "name": "stdout",
     "output_type": "stream",
     "text": [
      "500\n",
      "35.0\n",
      "14.286 km/l\n"
     ]
    }
   ],
   "source": [
    "### Consumption\n",
    "x = int(input(\"\"))\n",
    "y = float(input(\"\"))\n",
    "consumption = x/y\n",
    "print(format(consumption,\".3f\"),end=\"\") #14.286 km/l\n",
    "print(\" km/l\")"
   ]
  },
  {
   "cell_type": "code",
   "execution_count": null,
   "id": "654b3539",
   "metadata": {},
   "outputs": [],
   "source": []
  }
 ],
 "metadata": {
  "kernelspec": {
   "display_name": "Python 3 (ipykernel)",
   "language": "python",
   "name": "python3"
  },
  "language_info": {
   "codemirror_mode": {
    "name": "ipython",
    "version": 3
   },
   "file_extension": ".py",
   "mimetype": "text/x-python",
   "name": "python",
   "nbconvert_exporter": "python",
   "pygments_lexer": "ipython3",
   "version": "3.9.7"
  }
 },
 "nbformat": 4,
 "nbformat_minor": 5
}
