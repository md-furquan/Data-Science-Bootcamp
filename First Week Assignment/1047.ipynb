{
 "cells": [
  {
   "cell_type": "code",
   "execution_count": 1,
   "id": "b2221fd3",
   "metadata": {},
   "outputs": [
    {
     "name": "stdout",
     "output_type": "stream",
     "text": [
      "7 10 8 9\n",
      "O JOGO DUROU 0 HORA(S) E 59 MINUTO(S)\n"
     ]
    }
   ],
   "source": [
    "a,b,c,d  = input(\"\").split()\n",
    "init_hr  = int(a)\n",
    "init_min = int(b)\n",
    "final_hr = int(c)\n",
    "final_min= int(d)\n",
    "duration=((final_hr*60)+final_min)-((init_hr*60)+init_min)\n",
    "if(duration<=0):\n",
    "    duration+=24*60\n",
    "hour=duration//60\n",
    "minute=duration%60\n",
    "print(f\"O JOGO DUROU {hour} HORA(S) E {minute} MINUTO(S)\")"
   ]
  }
 ],
 "metadata": {
  "kernelspec": {
   "display_name": "Python 3 (ipykernel)",
   "language": "python",
   "name": "python3"
  },
  "language_info": {
   "codemirror_mode": {
    "name": "ipython",
    "version": 3
   },
   "file_extension": ".py",
   "mimetype": "text/x-python",
   "name": "python",
   "nbconvert_exporter": "python",
   "pygments_lexer": "ipython3",
   "version": "3.9.7"
  }
 },
 "nbformat": 4,
 "nbformat_minor": 5
}
