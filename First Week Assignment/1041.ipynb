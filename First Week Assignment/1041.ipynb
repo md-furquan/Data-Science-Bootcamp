{
 "cells": [
  {
   "cell_type": "code",
   "execution_count": 1,
   "id": "c80dbd3c",
   "metadata": {},
   "outputs": [
    {
     "name": "stdout",
     "output_type": "stream",
     "text": [
      "4.5 -2.2\n",
      "Q4\n"
     ]
    }
   ],
   "source": [
    "a,b= input(\"\").split()\n",
    "a = float(a)\n",
    "b = float(b)\n",
    "if(a==0 and b==0):\n",
    "    print(\"Origem\")\n",
    "elif(a==0):\n",
    "    print(\"Eixo Y\")\n",
    "elif(b==0):\n",
    "    print(\"Eixo X\")\n",
    "elif(a>0 and b>0):\n",
    "    print(\"Q1\")\n",
    "elif(a<0 and b>0):\n",
    "    print(\"Q2\")\n",
    "elif(a<0 and b<0):\n",
    "    print(\"Q3\")\n",
    "elif(a>0 and b<0):\n",
    "    print(\"Q4\")"
   ]
  }
 ],
 "metadata": {
  "kernelspec": {
   "display_name": "Python 3 (ipykernel)",
   "language": "python",
   "name": "python3"
  },
  "language_info": {
   "codemirror_mode": {
    "name": "ipython",
    "version": 3
   },
   "file_extension": ".py",
   "mimetype": "text/x-python",
   "name": "python",
   "nbconvert_exporter": "python",
   "pygments_lexer": "ipython3",
   "version": "3.9.7"
  }
 },
 "nbformat": 4,
 "nbformat_minor": 5
}
