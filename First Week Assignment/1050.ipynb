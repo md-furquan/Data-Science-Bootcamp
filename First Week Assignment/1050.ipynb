{
 "cells": [
  {
   "cell_type": "code",
   "execution_count": 1,
   "id": "50ce0e06",
   "metadata": {},
   "outputs": [
    {
     "name": "stdout",
     "output_type": "stream",
     "text": [
      "11\n",
      "Sao Paulo\n"
     ]
    }
   ],
   "source": [
    "code_number=int(input())\n",
    "if code_number==61:\n",
    "    print(\"Brasilia\")\n",
    "elif code_number==71:\n",
    "    print(\"Salvador\")\n",
    "elif code_number==11:\n",
    "    print(\"Sao Paulo\")\n",
    "elif code_number==21:\n",
    "    print(\"Rio de Janeiro\")\n",
    "elif code_number==32:\n",
    "    print(\"Juiz de Fora\")\n",
    "elif code_number==19:\n",
    "    print(\"Campinas\")\n",
    "elif code_number==27:\n",
    "    print(\"Vitoria\")\n",
    "elif code_number==31:\n",
    "    print(\"Belo Horizonte\")\n",
    "else:\n",
    "    print(\"DDD nao cadastrado\")"
   ]
  }
 ],
 "metadata": {
  "kernelspec": {
   "display_name": "Python 3 (ipykernel)",
   "language": "python",
   "name": "python3"
  },
  "language_info": {
   "codemirror_mode": {
    "name": "ipython",
    "version": 3
   },
   "file_extension": ".py",
   "mimetype": "text/x-python",
   "name": "python",
   "nbconvert_exporter": "python",
   "pygments_lexer": "ipython3",
   "version": "3.9.7"
  }
 },
 "nbformat": 4,
 "nbformat_minor": 5
}
