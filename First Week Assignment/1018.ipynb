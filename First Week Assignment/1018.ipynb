{
 "cells": [
  {
   "cell_type": "code",
   "execution_count": 1,
   "id": "7b458827",
   "metadata": {},
   "outputs": [
    {
     "name": "stdout",
     "output_type": "stream",
     "text": [
      "576\n",
      "576\n",
      "5 nota(s) de R$ 100,00\n",
      "1 nota(s) de R$ 50,00\n",
      "1 nota(s) de R$ 20,00\n",
      "0 nota(s) de R$ 10,00\n",
      "1 nota(s) de R$ 5,00\n",
      "0 nota(s) de R$ 2,00\n",
      "1 nota(s) de R$ 1,00\n"
     ]
    }
   ],
   "source": [
    "#Banknotes\n",
    "x = int(input(\"\"))\n",
    "print(x)\n",
    "x1 = int(x/100)\n",
    "x2 = x%100\n",
    "x3 = int(x2/50)\n",
    "x4 = x2%50\n",
    "x5 = int(x4/20)\n",
    "x6 = x4%20\n",
    "x7 = int(x6/10)\n",
    "x8 = x6%10\n",
    "x9 = int(x8/5)\n",
    "x10= x8%5\n",
    "x11 = int(x10/2)\n",
    "x12 = x10%2\n",
    "print(x1, end=\"\") #5 nota(s) de R$ 100,00\n",
    "print(\" nota(s) de R$ 100,00\")\n",
    "print(x3, end=\"\") #1 nota(s) de R$ 50,00\n",
    "print(\" nota(s) de R$ 50,00\")\n",
    "print(x5, end=\"\") #1 nota(s) de R$ 20,00\n",
    "print(\" nota(s) de R$ 20,00\") \n",
    "print(x7, end=\"\") #0 nota(s) de R$ 10,00\n",
    "print(\" nota(s) de R$ 10,00\")\n",
    "print(x9,end=\"\") #1 nota(s) de R$ 5,00\n",
    "print(\" nota(s) de R$ 5,00\")\n",
    "print(x11, end=\"\") #0 nota(s) de R$ 2,00\n",
    "print(\" nota(s) de R$ 2,00\")\n",
    "print(x12, end=\"\") #1 nota(s) de R$ 1,00\n",
    "print(\" nota(s) de R$ 1,00\")"
   ]
  }
 ],
 "metadata": {
  "kernelspec": {
   "display_name": "Python 3 (ipykernel)",
   "language": "python",
   "name": "python3"
  },
  "language_info": {
   "codemirror_mode": {
    "name": "ipython",
    "version": 3
   },
   "file_extension": ".py",
   "mimetype": "text/x-python",
   "name": "python",
   "nbconvert_exporter": "python",
   "pygments_lexer": "ipython3",
   "version": "3.9.7"
  }
 },
 "nbformat": 4,
 "nbformat_minor": 5
}
