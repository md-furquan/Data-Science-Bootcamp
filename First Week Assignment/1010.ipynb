{
 "cells": [
  {
   "cell_type": "code",
   "execution_count": 1,
   "id": "974f549b",
   "metadata": {},
   "outputs": [
    {
     "name": "stdout",
     "output_type": "stream",
     "text": [
      "12 1 5.30\n",
      "16 2 5.10\n",
      "VALOR A PAGAR: R$ 15.50\n"
     ]
    }
   ],
   "source": [
    "code1,unit1,p1 = input(\"\").split()\n",
    "code2,unit2,p2 = input(\"\").split()\n",
    "code1=int(code1)\n",
    "code2=int(code2)\n",
    "unit1=int(unit1)\n",
    "unit2=int(unit2)\n",
    "p1=float(p1)\n",
    "p2=float(p2)\n",
    "total = (unit1*p1)+(unit2*p2)\n",
    "print(\"VALOR A PAGAR: R$ \",end=\"\") \n",
    "print(format(total,\".2f\"))"
   ]
  }
 ],
 "metadata": {
  "kernelspec": {
   "display_name": "Python 3 (ipykernel)",
   "language": "python",
   "name": "python3"
  },
  "language_info": {
   "codemirror_mode": {
    "name": "ipython",
    "version": 3
   },
   "file_extension": ".py",
   "mimetype": "text/x-python",
   "name": "python",
   "nbconvert_exporter": "python",
   "pygments_lexer": "ipython3",
   "version": "3.9.7"
  }
 },
 "nbformat": 4,
 "nbformat_minor": 5
}
