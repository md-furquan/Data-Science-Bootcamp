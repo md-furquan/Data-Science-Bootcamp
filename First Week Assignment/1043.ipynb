{
 "cells": [
  {
   "cell_type": "code",
   "execution_count": 1,
   "id": "3182e406",
   "metadata": {},
   "outputs": [
    {
     "name": "stdout",
     "output_type": "stream",
     "text": [
      "6.0 4.0 2.1\n",
      "Perimetro = 12.1\n"
     ]
    }
   ],
   "source": [
    "#Triangle\n",
    "a,b,c = input(\"\").split()\n",
    "a = float(a)\n",
    "b = float(b)\n",
    "c = float(c)\n",
    "if a+b>c and b+c>a and c+a>b:\n",
    "    perimeter = a+b+c\n",
    "    print(\"Perimetro = \",end=\"\")\n",
    "    print(format(perimeter,\".1f\"))\n",
    "else:\n",
    "    area = (1/2)*(a+b)*c\n",
    "    print(f\"Area = {area:0.1f}\")"
   ]
  }
 ],
 "metadata": {
  "kernelspec": {
   "display_name": "Python 3 (ipykernel)",
   "language": "python",
   "name": "python3"
  },
  "language_info": {
   "codemirror_mode": {
    "name": "ipython",
    "version": 3
   },
   "file_extension": ".py",
   "mimetype": "text/x-python",
   "name": "python",
   "nbconvert_exporter": "python",
   "pygments_lexer": "ipython3",
   "version": "3.9.7"
  }
 },
 "nbformat": 4,
 "nbformat_minor": 5
}
