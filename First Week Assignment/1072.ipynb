{
 "cells": [
  {
   "cell_type": "code",
   "execution_count": 2,
   "id": "27e46a1c",
   "metadata": {},
   "outputs": [
    {
     "name": "stdout",
     "output_type": "stream",
     "text": [
      "4\n",
      "14\n",
      "123\n",
      "10\n",
      "-25\n",
      "2 in\n",
      "2 out\n"
     ]
    }
   ],
   "source": [
    "In_Interval=0\n",
    "Out_Interval=0\n",
    "N = int(input(\"\"))\n",
    "for x in range(N):\n",
    "    X=int(input())\n",
    "    if(10<=X<=20):\n",
    "            In_Interval=In_Interval+1\n",
    "    else:\n",
    "        Out_Interval=Out_Interval+1\n",
    "print(f\"{In_Interval} in\")\n",
    "print(f\"{Out_Interval} out\")"
   ]
  }
 ],
 "metadata": {
  "kernelspec": {
   "display_name": "Python 3 (ipykernel)",
   "language": "python",
   "name": "python3"
  },
  "language_info": {
   "codemirror_mode": {
    "name": "ipython",
    "version": 3
   },
   "file_extension": ".py",
   "mimetype": "text/x-python",
   "name": "python",
   "nbconvert_exporter": "python",
   "pygments_lexer": "ipython3",
   "version": "3.9.7"
  }
 },
 "nbformat": 4,
 "nbformat_minor": 5
}
