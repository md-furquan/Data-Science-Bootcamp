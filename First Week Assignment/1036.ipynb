{
 "cells": [
  {
   "cell_type": "code",
   "execution_count": 1,
   "id": "dcc79f9f",
   "metadata": {},
   "outputs": [
    {
     "name": "stdout",
     "output_type": "stream",
     "text": [
      "10.0 20.1 5.1\n",
      "R1 = -0.29788\n",
      "R2 = -1.71212\n"
     ]
    }
   ],
   "source": [
    "#Bhaskara's Formula\n",
    "import math\n",
    "A,B,C = map(float,input().split())\n",
    "D = (B**2)-(4*A*C)\n",
    "if(D <0 or A==0):\n",
    "    print(\"Impossivel calcular\")\n",
    "else:\n",
    "    D=math.sqrt(D)\n",
    "    R1 = (-B+D)/(2*A)\n",
    "    R2 = (-B-D)/(2*A)\n",
    "    print(f'R1 = {R1:0.5f}\\nR2 = {R2:0.5f}')"
   ]
  }
 ],
 "metadata": {
  "kernelspec": {
   "display_name": "Python 3 (ipykernel)",
   "language": "python",
   "name": "python3"
  },
  "language_info": {
   "codemirror_mode": {
    "name": "ipython",
    "version": 3
   },
   "file_extension": ".py",
   "mimetype": "text/x-python",
   "name": "python",
   "nbconvert_exporter": "python",
   "pygments_lexer": "ipython3",
   "version": "3.9.7"
  }
 },
 "nbformat": 4,
 "nbformat_minor": 5
}
