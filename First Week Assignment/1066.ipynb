{
 "cells": [
  {
   "cell_type": "code",
   "execution_count": 1,
   "id": "3bc54741",
   "metadata": {},
   "outputs": [
    {
     "name": "stdout",
     "output_type": "stream",
     "text": [
      "-5\n",
      "0\n",
      "-3\n",
      "-4\n",
      "12\n",
      "3 valor(es) par(es)\n",
      "2 valor(es) impar(es)\n",
      "1 valor(es) positivo(s)\n",
      "3 valor(es) negativo(s)\n"
     ]
    }
   ],
   "source": [
    "even = 0\n",
    "odd  = 0\n",
    "positive = 0\n",
    "negative = 0\n",
    "a = int(input(\"\"))\n",
    "b = int(input(\"\"))\n",
    "c = int(input(\"\"))\n",
    "d = int(input(\"\"))\n",
    "e = int(input(\"\"))\n",
    "numbers = [a,b,c,d,e]\n",
    "for x in range(5):\n",
    "    if(numbers[x] % 2 == 0):\n",
    "         even = even+1\n",
    "    else:\n",
    "        odd =odd+1\n",
    "    if (numbers[x] > 0):\n",
    "        positive =positive+1\n",
    "    elif (numbers[x] < 0):\n",
    "        negative =negative+1\n",
    "print(f\"{even} valor(es) par(es)\")\n",
    "print(f\"{odd} valor(es) impar(es)\")\n",
    "print(f\"{positive} valor(es) positivo(s)\")\n",
    "print(f\"{negative} valor(es) negativo(s)\")"
   ]
  }
 ],
 "metadata": {
  "kernelspec": {
   "display_name": "Python 3 (ipykernel)",
   "language": "python",
   "name": "python3"
  },
  "language_info": {
   "codemirror_mode": {
    "name": "ipython",
    "version": 3
   },
   "file_extension": ".py",
   "mimetype": "text/x-python",
   "name": "python",
   "nbconvert_exporter": "python",
   "pygments_lexer": "ipython3",
   "version": "3.9.7"
  }
 },
 "nbformat": 4,
 "nbformat_minor": 5
}
