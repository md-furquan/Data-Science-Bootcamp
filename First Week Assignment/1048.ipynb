{
 "cells": [
  {
   "cell_type": "code",
   "execution_count": 1,
   "id": "9c62ca98",
   "metadata": {},
   "outputs": [
    {
     "name": "stdout",
     "output_type": "stream",
     "text": [
      "400.00\n",
      "Novo salario: 460.00\n",
      "Reajuste ganho: 60.00\n",
      "Em percentual: 15 %\n"
     ]
    }
   ],
   "source": [
    "original_salary = float(input(\"\"))\n",
    "if original_salary>=0.00 and original_salary<=400.00:\n",
    "    increased_percentage=15\n",
    "    bonus_salary = original_salary*(increased_percentage/100)\n",
    "    total_salary = original_salary+bonus_salary\n",
    "    print(f\"Novo salario: \",end=\"\")\n",
    "    print(format(total_salary,\".2f\"))\n",
    "    print(f\"Reajuste ganho: \",end=\"\")\n",
    "    print(format(bonus_salary,\".2f\"))\n",
    "    print(f\"Em percentual: {increased_percentage} %\")\n",
    "elif original_salary>=400.01 and original_salary<=800.00:\n",
    "    increased_percentage=12\n",
    "    bonus_salary = original_salary*(increased_percentage/100)\n",
    "    total_salary = original_salary+bonus_salary\n",
    "    print(f\"Novo salario: \",end=\"\")\n",
    "    print(format(total_salary,\".2f\"))\n",
    "    print(f\"Reajuste ganho: \",end=\"\")\n",
    "    print(format(bonus_salary,\".2f\"))\n",
    "    print(f\"Em percentual: {increased_percentage} %\")\n",
    "elif original_salary>=800.01 and original_salary<=1200.00:\n",
    "    increased_percentage=10\n",
    "    bonus_salary = original_salary*(increased_percentage/100)\n",
    "    total_salary = original_salary+bonus_salary\n",
    "    print(f\"Novo salario: \",end=\"\")\n",
    "    print(format(total_salary,\".2f\"))\n",
    "    print(f\"Reajuste ganho: \",end=\"\")\n",
    "    print(format(bonus_salary,\".2f\"))\n",
    "    print(f\"Em percentual: {increased_percentage} %\")\n",
    "elif original_salary>=1200.01 and original_salary<=2000.00:\n",
    "    increased_percentage=7\n",
    "    bonus_salary = original_salary*(increased_percentage/100)\n",
    "    total_salary = original_salary+bonus_salary\n",
    "    print(f\"Novo salario: \",end=\"\")\n",
    "    print(format(total_salary,\".2f\"))\n",
    "    print(f\"Reajuste ganho: \",end=\"\")\n",
    "    print(format(bonus_salary,\".2f\"))\n",
    "    print(f\"Em percentual: {increased_percentage} %\")\n",
    "elif original_salary>2000.00:\n",
    "    increased_percentage=4\n",
    "    bonus_salary = original_salary*(increased_percentage/100)\n",
    "    total_salary = original_salary+bonus_salary\n",
    "    print(f\"Novo salario: \",end=\"\")\n",
    "    print(format(total_salary,\".2f\"))\n",
    "    print(f\"Reajuste ganho: \",end=\"\")\n",
    "    print(format(bonus_salary,\".2f\"))\n",
    "    print(f\"Em percentual: {increased_percentage} %\")"
   ]
  }
 ],
 "metadata": {
  "kernelspec": {
   "display_name": "Python 3 (ipykernel)",
   "language": "python",
   "name": "python3"
  },
  "language_info": {
   "codemirror_mode": {
    "name": "ipython",
    "version": 3
   },
   "file_extension": ".py",
   "mimetype": "text/x-python",
   "name": "python",
   "nbconvert_exporter": "python",
   "pygments_lexer": "ipython3",
   "version": "3.9.7"
  }
 },
 "nbformat": 4,
 "nbformat_minor": 5
}
