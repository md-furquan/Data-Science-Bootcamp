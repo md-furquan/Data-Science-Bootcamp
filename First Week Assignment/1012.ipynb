{
 "cells": [
  {
   "cell_type": "code",
   "execution_count": 1,
   "id": "ae551946",
   "metadata": {},
   "outputs": [
    {
     "name": "stdout",
     "output_type": "stream",
     "text": [
      "3.0 4.0 5.2\n",
      "TRIANGULO: 7.800\n",
      "CIRCULO: 84.949\n",
      "TRAPEZIO: 18.200\n",
      "QUADRADO: 16.000\n",
      "RETANGULO: 12.000\n"
     ]
    }
   ],
   "source": [
    "import math\n",
    "A,B,C = input(\"\").split()\n",
    "A = float(A)\n",
    "B = float(B)\n",
    "C = float(C)\n",
    "Area_Tri = 1/2*A*C\n",
    "Area_Cir = 3.14159*pow(C,2)\n",
    "Area_Trap = ((A+B)/2)*C\n",
    "Area_Square = pow(B,2)\n",
    "Area_Rec = A*B\n",
    "print(\"TRIANGULO: \",end=\"\") #TRIANGULO: 7.800\n",
    "print(format(Area_Tri,\".3f\"))\n",
    "print(\"CIRCULO: \",end=\"\") #CIRCULO: 84.949\n",
    "print(format(Area_Cir,\".3f\"))\n",
    "print(\"TRAPEZIO: \",end=\"\") #TRAPEZIO: 18.200\n",
    "print(format(Area_Trap,\".3f\"))\n",
    "print(\"QUADRADO: \",end=\"\") #QUADRADO: 16.000\n",
    "print(format(Area_Square,\".3f\"))\n",
    "print(\"RETANGULO: \",end=\"\") #RETANGULO: 12.000\n",
    "print(format(Area_Rec,\".3f\"))"
   ]
  }
 ],
 "metadata": {
  "kernelspec": {
   "display_name": "Python 3 (ipykernel)",
   "language": "python",
   "name": "python3"
  },
  "language_info": {
   "codemirror_mode": {
    "name": "ipython",
    "version": 3
   },
   "file_extension": ".py",
   "mimetype": "text/x-python",
   "name": "python",
   "nbconvert_exporter": "python",
   "pygments_lexer": "ipython3",
   "version": "3.9.7"
  }
 },
 "nbformat": 4,
 "nbformat_minor": 5
}
