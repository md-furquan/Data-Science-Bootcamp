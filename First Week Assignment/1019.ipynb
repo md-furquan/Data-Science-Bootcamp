{
 "cells": [
  {
   "cell_type": "code",
   "execution_count": 1,
   "id": "3e8892f3",
   "metadata": {},
   "outputs": [
    {
     "name": "stdout",
     "output_type": "stream",
     "text": [
      "556\n",
      "0:9:16\n"
     ]
    }
   ],
   "source": [
    "#Time Conversion\n",
    "x = int(input(\"\"))\n",
    "x1 = int(x/3600)\n",
    "x2 = x%3600\n",
    "x3 = int(x2/60)\n",
    "x4 = x2%60\n",
    "print(x1,end=\"\")\n",
    "print(\":\",end=\"\")\n",
    "print(x3,end=\"\")\n",
    "print(\":\",end=\"\")\n",
    "print(x4)\n",
    "#0:9:16"
   ]
  }
 ],
 "metadata": {
  "kernelspec": {
   "display_name": "Python 3 (ipykernel)",
   "language": "python",
   "name": "python3"
  },
  "language_info": {
   "codemirror_mode": {
    "name": "ipython",
    "version": 3
   },
   "file_extension": ".py",
   "mimetype": "text/x-python",
   "name": "python",
   "nbconvert_exporter": "python",
   "pygments_lexer": "ipython3",
   "version": "3.9.7"
  }
 },
 "nbformat": 4,
 "nbformat_minor": 5
}
