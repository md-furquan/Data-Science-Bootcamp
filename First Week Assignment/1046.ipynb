{
 "cells": [
  {
   "cell_type": "code",
   "execution_count": 1,
   "id": "83691ff9",
   "metadata": {},
   "outputs": [
    {
     "name": "stdout",
     "output_type": "stream",
     "text": [
      "2 16\n",
      "O JOGO DUROU 14 HORA(S)\n"
     ]
    }
   ],
   "source": [
    "a,b = input(\"\").split()\n",
    "a = int(a)\n",
    "b = int(b)\n",
    "if a>b or a==b:\n",
    "    duration = 24-a+b\n",
    "    print(f\"O JOGO DUROU {duration} HORA(S)\")\n",
    "else:\n",
    "    duration = b-a\n",
    "    print(f\"O JOGO DUROU {duration} HORA(S)\")"
   ]
  }
 ],
 "metadata": {
  "kernelspec": {
   "display_name": "Python 3 (ipykernel)",
   "language": "python",
   "name": "python3"
  },
  "language_info": {
   "codemirror_mode": {
    "name": "ipython",
    "version": 3
   },
   "file_extension": ".py",
   "mimetype": "text/x-python",
   "name": "python",
   "nbconvert_exporter": "python",
   "pygments_lexer": "ipython3",
   "version": "3.9.7"
  }
 },
 "nbformat": 4,
 "nbformat_minor": 5
}
