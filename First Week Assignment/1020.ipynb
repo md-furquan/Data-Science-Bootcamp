{
 "cells": [
  {
   "cell_type": "code",
   "execution_count": 1,
   "id": "8f850519",
   "metadata": {},
   "outputs": [
    {
     "name": "stdout",
     "output_type": "stream",
     "text": [
      "400\n",
      "1 ano(s)\n",
      "1 mes(es)\n",
      "5 dia(s)\n"
     ]
    }
   ],
   "source": [
    "age = int(input(\"\"))\n",
    "print(f\"{int(age/365)} ano(s)\")\n",
    "upd_age = age%365\n",
    "print(f\"{int(upd_age/30)} mes(es)\")\n",
    "upd_age = upd_age%30\n",
    "print(f\"{upd_age} dia(s)\")"
   ]
  }
 ],
 "metadata": {
  "kernelspec": {
   "display_name": "Python 3 (ipykernel)",
   "language": "python",
   "name": "python3"
  },
  "language_info": {
   "codemirror_mode": {
    "name": "ipython",
    "version": 3
   },
   "file_extension": ".py",
   "mimetype": "text/x-python",
   "name": "python",
   "nbconvert_exporter": "python",
   "pygments_lexer": "ipython3",
   "version": "3.9.7"
  }
 },
 "nbformat": 4,
 "nbformat_minor": 5
}
