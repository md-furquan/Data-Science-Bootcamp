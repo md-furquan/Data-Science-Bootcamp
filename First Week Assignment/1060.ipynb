{
 "cells": [
  {
   "cell_type": "code",
   "execution_count": 1,
   "id": "4c574319",
   "metadata": {},
   "outputs": [
    {
     "name": "stdout",
     "output_type": "stream",
     "text": [
      "7\n",
      "-5\n",
      "6\n",
      "-3.4\n",
      "4.6\n",
      "12\n",
      "4 valores positivos\n"
     ]
    }
   ],
   "source": [
    "count = 0\n",
    "a = float(input(\"\"))\n",
    "b = float(input(\"\"))\n",
    "c = float(input(\"\"))\n",
    "d = float(input(\"\"))\n",
    "e = float(input(\"\"))\n",
    "f = float(input(\"\"))\n",
    "numbers = [a,b,c,d,e,f]\n",
    "for x in range(6):\n",
    "    if numbers[x]>0:\n",
    "        count+=1\n",
    "print(f'{count} valores positivos')"
   ]
  }
 ],
 "metadata": {
  "kernelspec": {
   "display_name": "Python 3 (ipykernel)",
   "language": "python",
   "name": "python3"
  },
  "language_info": {
   "codemirror_mode": {
    "name": "ipython",
    "version": 3
   },
   "file_extension": ".py",
   "mimetype": "text/x-python",
   "name": "python",
   "nbconvert_exporter": "python",
   "pygments_lexer": "ipython3",
   "version": "3.9.7"
  }
 },
 "nbformat": 4,
 "nbformat_minor": 5
}
