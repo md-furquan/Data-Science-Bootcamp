{
 "cells": [
  {
   "cell_type": "code",
   "execution_count": 1,
   "id": "e080d65f",
   "metadata": {},
   "outputs": [
    {
     "name": "stdout",
     "output_type": "stream",
     "text": [
      "3002.00\n",
      "R$ 80.36\n"
     ]
    }
   ],
   "source": [
    "salary = float(input())\n",
    "\n",
    "if(salary > 0 and salary <= 2000):\n",
    "    print(f\"Isento\")\n",
    "elif(salary > 2000 and salary <= 3000):\n",
    "    tax = salary - 2000\n",
    "    total_tax = tax * 0.08\n",
    "    print(f\"R$ {total_tax:0.2f}\")\n",
    "elif(salary > 3000 and salary < 4500):\n",
    "    tax = salary - 3000\n",
    "    total_tax = (tax * 0.18) + (1000 * 0.08)\n",
    "    print(f\"R$ {total_tax:0.2f}\")\n",
    "else:\n",
    "    tax = salary - 4500\n",
    "    total_tax = (tax * 0.28) + (1500 * 0.18) + (1000 * 0.08)\n",
    "    print(f\"R$ {total_tax:0.2f}\")"
   ]
  }
 ],
 "metadata": {
  "kernelspec": {
   "display_name": "Python 3 (ipykernel)",
   "language": "python",
   "name": "python3"
  },
  "language_info": {
   "codemirror_mode": {
    "name": "ipython",
    "version": 3
   },
   "file_extension": ".py",
   "mimetype": "text/x-python",
   "name": "python",
   "nbconvert_exporter": "python",
   "pygments_lexer": "ipython3",
   "version": "3.9.7"
  }
 },
 "nbformat": 4,
 "nbformat_minor": 5
}
