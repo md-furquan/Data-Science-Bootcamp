{
 "cells": [
  {
   "cell_type": "code",
   "execution_count": 1,
   "id": "a9587844",
   "metadata": {},
   "outputs": [
    {
     "name": "stdout",
     "output_type": "stream",
     "text": [
      "9.0 4.0 8.5 9.0\n",
      "Media: 7.3\n",
      "Aluno aprovado.\n"
     ]
    }
   ],
   "source": [
    "#Average 3\n",
    "a,b,c,d = map(float,input().split())\n",
    "average = (a*2+b*3+c*4+d*1)/10\n",
    "print(\"Media: \",end=\"\")\n",
    "print(format(average,\".1f\"))\n",
    "if average>=7.0:\n",
    "    print(\"Aluno aprovado.\")\n",
    "elif average<5.0:\n",
    "    print(\"Aluno reprovado.\")\n",
    "elif average>=5.0 and average<=6.9:\n",
    "    print(\"Aluno em exame.\")\n",
    "    N = float(input())\n",
    "    print(f'Nota do exame: {N:.1f}')\n",
    "    N = (average+N)/2\n",
    "    if N>=5.0:\n",
    "        print(\"Aluno aprovado.\")\n",
    "        print(f'Media final: {N:.1f}')\n",
    "    else:\n",
    "        print(\"Aluno reprovado.\")\n",
    "        print(f'Media final: {N:.1f}')"
   ]
  }
 ],
 "metadata": {
  "kernelspec": {
   "display_name": "Python 3 (ipykernel)",
   "language": "python",
   "name": "python3"
  },
  "language_info": {
   "codemirror_mode": {
    "name": "ipython",
    "version": 3
   },
   "file_extension": ".py",
   "mimetype": "text/x-python",
   "name": "python",
   "nbconvert_exporter": "python",
   "pygments_lexer": "ipython3",
   "version": "3.9.7"
  }
 },
 "nbformat": 4,
 "nbformat_minor": 5
}
