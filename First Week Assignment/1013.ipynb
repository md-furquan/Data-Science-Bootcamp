{
 "cells": [
  {
   "cell_type": "code",
   "execution_count": 1,
   "id": "aede5553",
   "metadata": {},
   "outputs": [
    {
     "name": "stdout",
     "output_type": "stream",
     "text": [
      "7 14 106\n",
      "106 eh o maior\n"
     ]
    }
   ],
   "source": [
    "#The Greatest\n",
    "import math\n",
    "a,b,c = input(\"\").split()\n",
    "a = int(a)\n",
    "b = int(b)\n",
    "c = int(c)\n",
    "greater= int(((a+b)+abs(a-b))/2)\n",
    "greatest= int(((greater+c)+abs(greater-c))/2)\n",
    "print(greatest,end=\"\") #106 eh o maior\n",
    "print(\" eh o maior\")"
   ]
  }
 ],
 "metadata": {
  "kernelspec": {
   "display_name": "Python 3 (ipykernel)",
   "language": "python",
   "name": "python3"
  },
  "language_info": {
   "codemirror_mode": {
    "name": "ipython",
    "version": 3
   },
   "file_extension": ".py",
   "mimetype": "text/x-python",
   "name": "python",
   "nbconvert_exporter": "python",
   "pygments_lexer": "ipython3",
   "version": "3.9.7"
  }
 },
 "nbformat": 4,
 "nbformat_minor": 5
}
