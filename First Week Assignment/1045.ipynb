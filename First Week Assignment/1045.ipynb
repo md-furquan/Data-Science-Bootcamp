{
 "cells": [
  {
   "cell_type": "code",
   "execution_count": 1,
   "id": "07992e96",
   "metadata": {},
   "outputs": [
    {
     "name": "stdout",
     "output_type": "stream",
     "text": [
      "7.0 5.0 7.0\n",
      "TRIANGULO ACUTANGULO\n",
      "TRIANGULO ISOSCELES\n"
     ]
    }
   ],
   "source": [
    "a,b,c = input(\"\").split()\n",
    "a = float(a)\n",
    "b = float(b)\n",
    "c = float(c)\n",
    "sides = [a,b,c]\n",
    "sides.sort(reverse=True)\n",
    "if sides[0]>=sides[1]+sides[2]:\n",
    "    print(\"NAO FORMA TRIANGULO\")\n",
    "elif (sides[0]*sides[0])==(sides[1]*sides[1])+(sides[2]*sides[2]):\n",
    "    print(\"TRIANGULO RETANGULO\")\n",
    "elif (sides[0]*sides[0])>(sides[1]*sides[1])+(sides[2]*sides[2]):\n",
    "    print(\"TRIANGULO OBTUSANGULO\")\n",
    "elif (sides[0]*sides[0])<(sides[1]*sides[1])+(sides[2]*sides[2]):\n",
    "    print(\"TRIANGULO ACUTANGULO\")\n",
    "if sides[0]==sides[1] and sides[1]==sides[2]:\n",
    "    print(\"TRIANGULO EQUILATERO\")\n",
    "elif sides[0]==sides[1] or sides[1]==sides[2]:\n",
    "    print(\"TRIANGULO ISOSCELES\")"
   ]
  }
 ],
 "metadata": {
  "kernelspec": {
   "display_name": "Python 3 (ipykernel)",
   "language": "python",
   "name": "python3"
  },
  "language_info": {
   "codemirror_mode": {
    "name": "ipython",
    "version": 3
   },
   "file_extension": ".py",
   "mimetype": "text/x-python",
   "name": "python",
   "nbconvert_exporter": "python",
   "pygments_lexer": "ipython3",
   "version": "3.9.7"
  }
 },
 "nbformat": 4,
 "nbformat_minor": 5
}
